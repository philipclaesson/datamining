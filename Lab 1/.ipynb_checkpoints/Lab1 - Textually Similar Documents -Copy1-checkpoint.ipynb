{
 "cells": [
  {
   "cell_type": "markdown",
   "metadata": {},
   "source": [
    "# Finding Similar Items: Textually Similar Documents\n",
    "\n",
    "\n",
    "## Task\n",
    "The task of this lab was to implement the stages of finding textually similar documents based on Jaccard similarity using the shingling, minhashing, and locality-sensitive hashing (LSH) techniques and corresponding algorithms. Theory can be found in the docs directory. \n",
    "\n",
    "## How to Run \n",
    "Run the code by sequentially executing each block of the code. Hyperparameters can be set for part 1, 2 and 3 under each parts respective section *Hyperparameters*. \n",
    "\n",
    "### All code by\n",
    "Philip Claesson and Miguel Maricalva"
   ]
  },
  {
   "cell_type": "code",
   "execution_count": 1,
   "metadata": {
    "collapsed": true
   },
   "outputs": [],
   "source": [
    "import pandas as pd\n",
    "import numpy as np\n",
    "import hashlib\n",
    "from OrderedSet import OrderedSet"
   ]
  },
  {
   "cell_type": "markdown",
   "metadata": {},
   "source": [
    "### Read Documents"
   ]
  },
  {
   "cell_type": "code",
   "execution_count": 2,
   "metadata": {
    "collapsed": true
   },
   "outputs": [],
   "source": [
    "import os\n",
    "\n",
    "path = \"../data/OpinRankDataset/hotels/small_sample/\"\n",
    "raw_documents = []\n",
    "\n",
    "for root, dirs, files in os.walk(path):  \n",
    "    for filename in files:\n",
    "        raw_doc = \"\"\n",
    "        with open(path + filename, encoding='utf-8', errors='replace') as f:\n",
    "            for line in f.readlines():\n",
    "                raw_doc += line\n",
    "        raw_documents.append(raw_doc)"
   ]
  },
  {
   "cell_type": "code",
   "execution_count": null,
   "metadata": {
    "collapsed": true
   },
   "outputs": [],
   "source": []
  },
  {
   "cell_type": "code",
   "execution_count": 3,
   "metadata": {},
   "outputs": [
    {
     "name": "stdout",
     "output_type": "stream",
     "text": [
      "9\n"
     ]
    }
   ],
   "source": [
    "## Number of documents\n",
    "print(len(raw_documents))"
   ]
  },
  {
   "cell_type": "code",
   "execution_count": 4,
   "metadata": {
    "collapsed": true
   },
   "outputs": [],
   "source": [
    "class Document: \n",
    "    def __init__(this, text, n_buckets, shingle_length, filename):\n",
    "        this.filename = filename\n",
    "        this.text = text\n",
    "        this.length = len(text)\n",
    "        this.n_buckets = n_buckets\n",
    "        this.shingle_length = shingle_length\n",
    "    \n",
    "    def createShingles(this): \n",
    "        this.shingles = OrderedSet()\n",
    "        \n",
    "        ## number of shingles = length/k\n",
    "        n = int(this.length/this.shingle_length)\n",
    "        \n",
    "        ## slice string\n",
    "        for i in range(n-1):\n",
    "            this.shingles.add(this.text[slice(this.shingle_length * i, this.shingle_length * (i+1))])\n",
    "    \n",
    "        for i in range (len(this.text)):\n",
    "            \n",
    "            \n",
    "            \n",
    "    def hashShingles(this):\n",
    "        this.hashedShingles = OrderedSet()\n",
    "        \n",
    "        for shingle in this.shingles: \n",
    "            this.hashedShingles.add(this.hashStr(shingle))\n",
    "    \n",
    "    def hashStr(this, string):\n",
    "        ## Hashes a string to an integer 0 <= i < n_buckets\n",
    "        return abs(hash(string)) % (this.n_buckets)\n",
    "    \n",
    "    def jaccardSimilarity(this, other): \n",
    "        ## Compares two docs based on the jaccard similarity of the hashed shingles. \n",
    "        intersection = (this.hashedShingles & other.hashedShingles)\n",
    "        union = (this.hashedShingles | other.hashedShingles)\n",
    "        return (len(intersection)/len(union))\n",
    "    \n",
    "    def createSignature(this, h):\n",
    "        ## builds a minHash signature (in the form of a vector or a set) of a given length n from a given set of integers (a set of hashed shingles).\n",
    "        this.signature = np.ones(h.n_hashes) * np.inf ## the signature has length k, corresponding to each hash\n",
    "        for i in range(h.n_hashes):\n",
    "            for e in this.shingles:\n",
    "                this.signature[i] = np.minimum(this.signature[i], h.hash(i, e)) # keep the smallest hash value of each hash function only\n",
    "        \n",
    "    def signatureSimilarity(this, other):\n",
    "        ## estimates similarity of two integer vectors – minhash signatures – as a fraction of components, in which they agree.\n",
    "        agree = 0\n",
    "        \n",
    "        for i in range(this.signature.size): \n",
    "            if (this.signature[i] == other.signature[i]): \n",
    "                agree += 1\n",
    "                \n",
    "        similarity = agree/this.signature.size\n",
    "        return similarity\n",
    "        "
   ]
  },
  {
   "cell_type": "code",
   "execution_count": 5,
   "metadata": {
    "collapsed": true
   },
   "outputs": [],
   "source": [
    "class Hasher: \n",
    "    def __init__(this, n_hashes, n_buckets): \n",
    "        ## A class that contains k random hash functions\n",
    "        this.n_hashes = n_hashes\n",
    "        this.n_buckets = n_buckets\n",
    "        \n",
    "        \n",
    "    def hash(this, i, string): \n",
    "        ## returns hash function i of x: h_i(x)\n",
    "        a = this.a_values[i]\n",
    "        b = this.b_values[i]\n",
    "        x = abs(hash(string))\n",
    "        return (a*x + b) % this.n_buckets\n",
    "    \n",
    "    def generateRandomHashFunctions(this):\n",
    "        # Each hash function is a function of random parameters a, b and c. \n",
    "        # create a and b values: 0 < random_interval_size\n",
    "        this.a_values = (np.random.rand(this.n_hashes) * this.n_buckets).astype(int)\n",
    "        this.b_values = (np.random.rand(this.n_hashes) * this.n_buckets).astype(int)\n",
    "        \n",
    "    def getHashMatrix(this, shingles):\n",
    "        # Creates a hash matrix based on an input array of shingles\n",
    "        # M(i, j) = h_i(e_j)\n",
    "        this.hash_matrix = np.zeros((this.n_hashes, shingles.size))\n",
    "        for i in range(this.n_hashes): # for each hash function\n",
    "            for e in shingles:\n",
    "                this.hash_matrix[i, j] = this.hash(i, e)\n",
    "                \n",
    "    "
   ]
  },
  {
   "cell_type": "code",
   "execution_count": 6,
   "metadata": {
    "collapsed": true
   },
   "outputs": [],
   "source": [
    "class LSH: \n",
    "    def __init__(this, n_rows, n_bands, t, n_buckets):\n",
    "        this.n_rows = n_rows # rows per band\n",
    "        this.n_bands = n_bands\n",
    "        this.t = t\n",
    "        this.n_buckets = n_buckets\n",
    "        this.hash_weights = (np.random.rand(this.n_rows) * n_buckets).astype(int)\n",
    "        \n",
    "    def getCandidatePairs(this, documents):\n",
    "        # takes a list of documents, returns a set of similar pairs based on LSH of their signatures. \n",
    "        bucket_doc_mat = np.zeros((this.n_buckets, len(documents)))\n",
    "        this.candidate_pairs = set()\n",
    "        for docindex, d in enumerate(documents):\n",
    "        # for each doc\n",
    "            for b in range(n_bands):\n",
    "            # for each band \n",
    "                band = d.signature[b * n_rows: (b+1) * n_rows]\n",
    "                hb = this.hashBand(band)\n",
    "                # hash band\n",
    "                # put 1 in bucket-doc matrix\n",
    "                bucket_doc_mat[hb, docindex] = 1\n",
    "\n",
    "        for bucket in bucket_doc_mat:\n",
    "        # for each bucket\n",
    "            doc_indices = np.nonzero(bucket)[0] # returns indices of all documents in the bucket\n",
    "            # add each pair to set\n",
    "            for d1 in doc_indices: # slow and stupid solution but concept works\n",
    "                for d2 in doc_indices: \n",
    "                    if (d1 < d2): ## make sure we just add each pair once..\n",
    "                        this.candidate_pairs.add((d1, d2))\n",
    "\n",
    "        return this.candidate_pairs\n",
    "    \n",
    "    def getSimilarPairs(this, documents):\n",
    "        ## Returns all similar pairs, based on candidate pairs and signature similarity >= t\n",
    "        this.similar_pairs = set()\n",
    "        for (d1, d2) in this.candidate_pairs: \n",
    "            if (documents[d1].signatureSimilarity(documents[d2]) >= this.t):\n",
    "                this.similar_pairs.add((d1, d2, documents[d1].signatureSimilarity(documents[d2])))\n",
    "\n",
    "        return this.similar_pairs\n",
    "    \n",
    "    def hashBand(this, band): \n",
    "        # takes the band (an array of integers) and hashes it to a\n",
    "        band_weight_sum = 0\n",
    "        for i, row in enumerate(band):\n",
    "            band_weight_sum += (this.hash_weights[i] * row) \n",
    "            \n",
    "        hashed_band = int(band_weight_sum % this.n_buckets)\n",
    "        return int(hashed_band)\n",
    "    \n",
    "    "
   ]
  },
  {
   "cell_type": "markdown",
   "metadata": {},
   "source": [
    "# 1. Jaccard Similarity of sets \n",
    "\n",
    "- Create shingle representation\n",
    "- Create hashed version of the representation. \n",
    "- Compute Jaccard Similarity of documents based on sets of hashed shingles \n",
    "\n",
    "\n",
    "## Hyperparameters\n",
    "\n",
    "#### n_buckets\n",
    "The number of hash buckets (or the number of different possible output values for the hash function). A high n_buckets will yield low similarity measures, because more possible hash values means fewer shingles will be hashed to the same buckets.\n",
    "\n",
    "#### shingle_length\n",
    "The number of characters in each shingle. Large value will yield low similarity measures, as there will be more combinations of shingles. "
   ]
  },
  {
   "cell_type": "code",
   "execution_count": 7,
   "metadata": {
    "collapsed": true
   },
   "outputs": [],
   "source": [
    "n_buckets = 2 ** 11 # number of hash buckets. This strongly affects the measure of similarity\n",
    "shingle_length = 10"
   ]
  },
  {
   "cell_type": "markdown",
   "metadata": {},
   "source": [
    "### Create documents. add to an array Documents\n"
   ]
  },
  {
   "cell_type": "code",
   "execution_count": 8,
   "metadata": {
    "collapsed": true
   },
   "outputs": [],
   "source": [
    "documents = []\n",
    "for i, d in enumerate(raw_documents):\n",
    "    documents.append(Document(d, n_buckets, shingle_length, filename = files[i]))\n"
   ]
  },
  {
   "cell_type": "markdown",
   "metadata": {},
   "source": [
    "### Example of document: "
   ]
  },
  {
   "cell_type": "code",
   "execution_count": 9,
   "metadata": {
    "scrolled": true
   },
   "outputs": [
    {
     "data": {
      "text/plain": [
       "\"Oct 30 2009 \\tOK value though shabby; good position.\\tI extended a one night stay to three. The staff were basically helpful when asked. My room was clean, comfortable, and daily serviced. I think the position is good for a budget hotel, near the Golden Gate theatre, right by Asian Arts Museum and Civic Centre. It's an old and architecturally atmospheric hotel.Negatives: it is very badly neglected. Things that might put you off are the need usually to ring the outside doorbell and wait to get someone to the unattended reception, unreliable breakfast availability (nil when I was there but I can see from other reviews that it can appear!), a very unreliable (but rather beautiful) classic Otis elevator, some very dilapidated corridors on the way to your room when the elevator is kaput, shabby though formerly elegant decor, homeless on nearby streets, though the street immediately outside was clear and felt safe and I didn't see any drug taking or pushing and I was never bothered anywhere. However, I rather liked both hotel and neighbourhood and felt it was OK value. One thing - when I extended my stay they raised the rate above the internet rate which was in the fifties to $70.\\t\\nJul 17 2009 \\tdon't take it unless you like bugs :)\\tDespite it's old fashioned, I expexted it to be at least nice. The elevator was not working, so we had take take our stuff to the 4th floor ourselves, taking into account, that the floors are much higher than average. We found bugs in the room. The neighbourhood of the hotel isn't pleasant, I mean poeple. Although it is not far from places of interest and shopping centers.Anyway, not very good memories from this hote.\\t\\nApr 21 2009 \\tunexpected surprise\\tAfter reading the reviews I was expecting the worst... the hotel is comfortable, large rooms and friendly staff. Free breakfast was included which is a lot more than what we got in other much more expensive hotels we stayed in in California. The area which the hotel is in is indeed ghetto, drug dealers and users but they keep themselves to themselves. A bus or taxi is advisable to the centre as it is a distance to the main attractions. It is a budget hotel and doesn't claim to be anything else, worth the money and if you are travelling it is ideal. San Fran is really awesome ( least place we were looking forward to whilst travelling California) however it proved to be amazing. We cycled golden gate bridge, went to Alcatraz, countless bars and restaurants and lombard road is neat too! If you are staying for a short time then the Abigail is fine and a normal breakfast of toast and juice is what most people desire for breakfast not stacks of pancakes and fried food. Well done Abigail for getting this right! Oh and there is free internet in the lobby.\\t\\nDec 9 2008\\tYou get what you pay for!!! BEWARE OF DRUGGIES\\tThere's really no where to park but on the street (parking meters) if you're lucky enough to find a spot! The first night we arrived we parked around the corner of the hotel and there were people dealing/smoking crack right on the sidewalk. I know they saw us but obviously didn't care. The alley on the side of hotel is a place for homeless to also do drugs or pass out. Hotel room was clean and cozy but they painted the inside of the bathtub and the whole bottom was peeling. I wore sandals in the shower. Breakfast was just toast with jelly and coffee, tea, and juice. Front desk was nice. Hotel is close to shopping mall/farmer's market. Wouldn't recommend to anyone with children! Overall the hotel was ok for $50 a night, but would rather pay extra $$ for a nice hotel, just to not deal with crackheads!\\t\\nSep 1 2008 \\tGreat place to stay if you're young.\\tMy friend and I stayed here for a total of four nights and had a great time. All the other tenants in the hotel were very nice and so were to hotel staff. The hotel itself had a very quaint, old romantic feeling that both of us liked and the elevator was really old and awesome. I am disappointed to read that people paid less than I did to stay in the hotel considering that I thought I got a pretty good rate at $69 per night. Within walking distance to BART station, bus stops, restaurants and a neat farmers market that I saw Sunday and Monday morning. I will certainly be staying here again if I should return to San Francisco.\\t\\nApr 24 2008 \\tGot we paid for- but very cheap\\tStayed with my wife for 9 nights. $30 US a night was great! Was in what some may think is a dodgy neighbourhood, but we had no problems. Geat access to public transport. Main issue was bad plumbing- toilet often blocked and had to move rooms once. Service was also very minimal. But for the price we couldnt complain too much.\\t\\nApr 20 2008 \\tHorror Hotel\\tI stayed at this hotel with a friend due to its close proximity to a concert we were attending down the street at the Warfield. What a mistake!!! Yeah it had old decor and I couldn't fit on the bed ( I'm 6'3). but all off that pales in comparison to what I found in the bathroom. I noticed that the cute country style mirror was set in a window frame. So my first thought is &quot; I wonder if his opens like a window?&quot; so I grab the window frame and what do ya know it opened right up. So there I am standing in the bathroom staring through a hole in the wall into a dark hallway about four feet wide that ran the length of our room. So now I'm wondering if my mirror might be one-way and I'm afraid to shower or use the toilet. I also can't sleep the entire night from the fear of someone entering our room through this mirror. At different points through the night my friend and I could hear people in this vacant area outside our room. It felt like a bad horror movie. At least we could watch the Dealers selling crack outside our window all night for entertainment while we weren't sleeping. To sum up: I will not be staying at this hotel again.\\t\\nApr 18 2008 \\tTotally misleading!\\tThis was the worst hotel ever!!! When I looked it up on line it looked ok, but when I got there I was really surprised. It looked NOTHING like the on-line photo's, looking really run down. My room was crappy as well, and the bathroom looked like a total dump! I didn't even feel safe in the hotel, nor did I feel safe walking around outside since the hotel's in gangster-land. No wonder it's so cheap! DO NOT STAY HERE (seriously).\\t\\nMar 12 2008 \\tThis Place Is Hell!!!!!\\tMy hubby and I came here for our anniversary and WOW was it ever ruined. when we first checked in, our room was not ready and so they went to put us on the 5th floor and the door looked like it had been kicked in and the people 3 rooms down was really loud having relations went to complain that we could not get into room and they said that they were going to put our things into another room until original room was cleaned and we went into room and I was pissed because there was drug paraphenalia all over the room and I took a first aid glove and picked up the crack pipe and took it to the front desk and the guy had the galls to insinuate that it was mine and I got mad and left for awhile and when we came back they moved us to another room and the mirror was on the floor by the wall and there was twin beds and we were right next to the antique elevator and ever time sone one came on or off of it the door slammed and woke us up. we left early and complained to the Howard Johnson Corporation and all the did was send us a coupon for $25.0 off saying that we can use it on our next visit. YEAH RIGHT!!!\\t\\nFeb 19 2008 \\tDo Not Stay Here\\tWe knew upon booking that The Abigail was not a 5-star hotel and we did not expect it to be. However, we expected something better than a hostel in Europe. We were sadly mistaken. Upon arrival (11 am), we were told that check-in was not until 3 pm and there were no rooms available at all. After checking or bags at the desk and walking around until 3 pm we returned to check in. We then found out that we had 2 double beds instead of a queen that we requested. We were told no other rooms were available at all and we would have to take that room. We then discovered there was no ice machine in the hotel (yet they had ice buckets and glasses in the room; go figure). There were no electrical outlets in the room, only extension cords that magically came up from the base boards (that can't be up to fire code) and if that was not weird enough, only 2 outlets out of 4 on the extension cord actually worked. The walls throughout the hotel were dented and mudded, but never painted again. We found mold growing in our room (um health liability) and the front desk clerks would have been better suited to work fast food than to be at the front desk of a hotel. Even if you are on a budget, STAY AWAY from the Abigail, sometimes saving money is not worth the annoyances and problems you get into.\\t\\nFeb 2 2008 \\tScabbi-Gail Hotel\\tWe stayed in the Abigail Hotel for 5 nights, we chose it as it was the cheapest we could find and we were on a strict budget!Having read the other reviews we were not expecting The Ritz but it was disappointing. We arrived at 1am, after being up 24hrs travelling from the UK. Our taxi driver told us we were on the outskirts of the 'rough' area, and advised us not to go past our road!The hotel was shabby and dated, there were also lots of down and outs roaming the streets as well! The man on reception was very helpful (and staff were excellent throughout our stay)The lift was small and rickety. Our room was on the top floor facing the nearby Asian Arts museum.I have to say that the hotel would have failed miserably on a Health &amp; Safety inspection (see photos), the windows were cracked, some were nailed shut, others did not shut properly!! The plug sockets were obviously dangerous, with masking tape and dodgy wiring.The bedsheets (although clean) had cigarette burns in them. The bed was clean and comfortable though.Noise wasnt too much of a problem, with either traffic or nearby locals. We both had jetlag so went to bed about 9pm each night and were awake by 5am so sat in bed watching local news reports of nearby shootings!! We were out all day and so only used the hotel as a base.We had been advised at the time of booking that the hotels restaurant was closed for refurbishment, but there was a lovely bar/bistro on the corner by the hotel, which showed films on a monday night, and had a very friendly helpful barman!Be warned that the hotel is near to some very dubious areas, and when walking back from the cinema/shopping centre we took a wrong turning and ended up in some very unsavour streets! The bus stop taking you to the Harbour/Pier 39 etc is just across the road so definitely use this if you are travelling back in the evenings.I have given this hotel a 2 out of 5 as the staff were very good and helpful.\\t\\nJan 16 2008 \\tOK little hotel good location\\tGot this hotel for $50/nt and stayed for two nights. It was OK for the price and location. The front desk was good and friendly, but not informative at all about the city. It's just opposite the Asian Art Museum and next to Civic Center, City Hall, Market Street, and Civic Center BART/Muni Station. Chinatown and Union Square are also in a short-walk distance. It's in a good location to get around this city.We initially booked for a double-bed room, but got a king bed instead. However, the room is quite small with a TV, a working desk, and a small love seat . You have a very little area to walk around the bed. Bathroom is rather old, but clean. The hallway is clean and nothing looks like some images posted in the past even though they're still renovating a few guest rooms. The worst thing during our stay is that the room was quite cold at night as the heater in our room in the 6th floor didn't work well. We asked them to fix that, but it didn't help. As other reviews mentioned about the homeless, I didn't see a lot of them. Maybe it's too cold and wet during this time of year for them to wander around.Overall, it's good value for budget-mined travellers.\\t\\nJan 10 2008 \\tFlop-House In Skid Row\\tI have never had such a horrifying experience at a hotel in my life! (and hopefully never will again) Upon entering the &quot;inner sanctum&quot;, better known as the lobby, we were greeted by a not-so-friendly desk clerk, whom, I guess doubled as night watchman,( since he later sacked out on the lobby sofa, snoring as we passed by upon returning in the evening.) The elevator was so rickety and small, you could barely get on with a small suitcase. The floor had a mushy bounce to it, and it felt like it was lined with cardboard. As it lurched into its ascent, I remember reciting the Lord's Prayer. When we finally reached our floor, I was still praying as we opened the door to the &quot;little shop of horrors.&quot; The exposed wires of a single light bulb dangled from the ceiling fan, which more resembled an interrogation device rather than an actual fixture. The other code violations and many infractions we took note of are too numerous to mention here. That night, when we returned to our hotel room, exhausted from walking around the area in search of alternate options for lodging, which my son found on line, we were about to climb into bed, when I noticed the stained and dingy-looking bed linen. We went down to our vehicle and brought up a blanket and laid it on top of the bed, where we &quot;slept&quot; fully clothed, ready to depart at day-break. Unfortunately, not much sleep actually occurred because we were awakened to the sounds of very loud arguing and screaming emanating from the run-down building next door to the hotel. This went on until day-break, when my husband turned to me and said , &quot;Are you ready?&quot; , to which I wasted no time jumping off that flea-bag bed, grabbing our belongings, and racing to the rickety elevator. As we flew by the front desk, bags in hand, I heard the clerk inquire &quot;Are you coming back?&quot;, to which I hollered over my shoulder, &quot;NO! I will never come back here again!&quot; As we pulled away from the curb, I bade goodbye to the Abigail Hotel (and the reprobate urinating on the lamp post outside the building) NEVER AGAIN!!\\t\\nNov 15 2007 \\tNice clean hotel great for the price!\\tWe stayed at this hotel recently and I had booked it after reading the latest Oct 2007 reveiws and yes I have to agree with them that although its not the best hotel in town, I dont think you could get a better deal for the price and loctaion in downtown San Francisco. The hotel is neat and clean, yes it is old but if you are looking to just sleep during the night its a good place. We were in SFO for a short time and were mostly out exploring the city during the day, so it worked out great for us. Its definitely not the place for you if you have in mind a relaxing hotel stay! The staff is curteous and quite helpful\\t\\nOct 21 2007 \\tWe found this hotel to be quite quaint and charming.\\tThe owner took a personal interest in us. We were always greeted upon entering the hotel. The room was very clean, with the housekeeping staff coming in daily to change the linen and towels. On our first day there, they called the cab company for us to get to the hospital on time. We live in the country and really dislike city living, but the staff at the Abigail made us feel at home.For the price, you can't beat it.4 STARSEndorsed by Dalevis (An Elvis Tribute Artist)\\t\\nJun 8 2007\\tGood location and a cute hotel!\\tI found the Abigail Hotel to be very agreeable, especially for the price. The room was spacious and clean, with new locks and lighting fixtures. The staff was always friendly and seemed hard-working. This hotel is in a great location - a short walk away from the Opera House and Market Street, and not too far by foot from Chinatown or Union Square, if one doesn't mind a short hike. The only downsides I could find were that the hotel is rather old and in need of cosmetic renovation (though that in no way reflects the quality of service and room comfort), and that the area in which it is located - the Civic Center - is a little seedy. However, we had a great experience there and really enjoyed our stay!\\t\\nMar 14 2007 \\tOK for the Price; Excellent customer service\\tWell, I read the previous comments and all I can say is that I had a different experience. Staff was very proactive and educated, willing to help all the time. The room was good for the price. Location in downtown, you cannot beat that. I know, it is not the GREATEST place on earth, but they are trying to provide a clean and good service. I definetely come back to the Abigail Hotel and I hope that you do so too. RELAX.AGAIN, it is not the best for the &quot;picky&quot; individuals.\\t\\nOct 10 2006 \\tThe Worst Hotel in the US\\tWe stayed in this hotel the past weekend, Oct 6, 2006, on our weekend getaway to SF. I'm not a picky one or could care less about fancy hotels but boy, this was something. When you just enter the hotel, it looks old and has this smell to it but they were remodeling the lobby, so, we didn't care. We had a room on the 5th floor and when we entered, I was shocked. Check out the pictures posted in one of the other reviews. That's exactly how the room looked like - broken cabinet doors, chipped ceiling/walls, no curtains, dirty windows, a dirty bathroom. The worst thing was the bed itself. The sheets were dirty, had &quot;stains&quot; on them and there was cigarette smoke smell everywhere. We went downstairs and asked for a new blanket. The guy brought a new one but didn't take the old one and told us to throw it on the floor. He still didn't offer to change the bed sheets and the pillow covers. It was too late for us to go anywhere else and were forced to spend the night there. I honestly think that it's hazardous to stay here. They must be in violation of some sort of laws. My nose was swollen the next morning. It was so terrible that come next morning, we checked out. I beg everybody to please DO NOT check into this hotel. There are other very affortable hotels around that are CLEAN. For example, just blocks away is Red Coach Lodge - that's where we stayed our second night.\\t\\nJun 29 2006 \\teven the fleas have fled\\tWe left booking a hotel until the last minute, which gave us few options. On walking up to the Abigail we were a little put off by the ideal location - ideal for the Pride festival being right in the middle of the Civic Center, but every street was awash with litter and debris and winos and other homeless slept in the alleys and doorways near the hotel.The entrance door is flanked by a large early art deco stained glass leadlight that is broken and held together with duct tape - very classy. The entrance foyer is carpeted in a dark red carpet with holes and worn patches. Everything appears to have a coat of paint for each year of operation, some of it flaked off in patches, but just painted over again. Lead poisoning here we come.The first flight of stairs is dangerous - very steep with small width steps, but the warning sign to hold on to the stair rail is at the top of the stairs, and the stair railing is coming away from the wall - a good tug, or the weight of a body grabbing it in a fall will send you crashing down about 15 feet to the floor below.The old-style elevator has no handle on the concertina grill door - meaning you squash your hand if you don't remove it quickly enough.Each floor is the same as the last - with flaking paint and other debris littering the carpet, and evicted residents' belongings and broken appliances left in the hallways.The smoke alarm was broken in our room, as was one of the sash windows - crashing down after I opened it - lucky my head wasn't in the open space - not that there is a view - it looks into an alleyway each side, in which the bag ladies and bagmen sleep in all their stench and glory. There was also no floor plan map on the back of the door to explain where the fire exits where in the case of an emergency.We noticed the certificate for the saftey of the elevator expired in June 2005, a point we took up with the State department responsible even though the duty manager (who gave his names as Andy, Andy Patel, and Andy Suchek) lied many times to us about how they did have a valid certificate at the office and it was being faxed for us to see. We never did get to see it. The fire hose certificate on floor 4 was also expired, but at least the fire extinguisher certificate was current by six months.The bathroom was ventilated with a sash window painted over (and over) opening into a shaft that smelled as if a pigeon had lain deceased at the bottom for some months. No shelf to put your shampoo or makeup on either. When we arrived late in the day, there were no towels other than an old handtowel. When we finally received the full quota of bath linen two days later they were so small and threadbare. A towel when held vertically stretched from the floor to just above the knees - I am 5' 10&quot;.The bed was a king size which would have been lovely except that it left little room in the room for the other furniture - we banged our shins many times getting around the bed. It was made up with white poly/cotton sheets - for a double bed, judging by the amount on each side they were too short. We had to show the Indian maid how to make up the bed with the sheets going north/south instead of east/west. She was right to make the beds east/west though as that was the only way the sheets fitted!!!The blanket had as many holes in it as we stayed nights (six) and the quilted cover had cigarette burns in it, as did the side table.The armchair was covered with a slip cover that was long in need of a good wash - especially as it was splattered with dried blood down one side! Hepatitus B and C here we come!The room carpet was worn and very stained, even more so when at three one morning we awoke to the sound of running water only to find the light fitting above the door was gushing water from the floor above. The carpet remained soggy for the remainder of our stay, even though we were assured they had a wet/dry vacuum cleaner to deal with it.It looks like every problem is fixed by a near-sighted home-handyman - the type that smears plaster over cracks and holes but doesn't sand it smooth before applying liberal coats of paint. This was evident in three large cracks around the ceiling fan, the bedroom wall light switch, the bathroom sink wall mounts, and numerous holes and such patched on each floor in the stairwell.A small bar fridge and microwave was in the room as well as a very large television. Of the 80 or so channels it recieved only two were clear enough to view. The microwave was placed precariously on top of the bar fridge which was too low down on the floor to be comfortably used and the fridge was too large to fit in the aperture for it in the enormous wall unit housing the huge tv. We moved the microwave to atop the large desk taking up an entire corner of the room.The telephone did not work at all, we complained twice and when it was finally fixed, it did not accept 1-800 numbers - we had to make those from a payphone downstairs - a bit difficult to ring up the 1-800 numbers for an alternative hotel. There was also no schedule of charges in the room for such things as stealing the towels or making toll calls.We stayed the length of our stay (six nights) because we had no other place to stay, and accomodation was at a premium due to the Pride festival. We can't say it was clean - as it wasn't. We can't say it was comfortable, as it wasn't when we had to chase bed sheets around all night, and worried over how the huge cracks in the celing surrounding the celing fan mount got there...It certainly wasn't quiet. The smell of the dehydrating pigeon and the years of &quot;residents&quot; in the room meant we kept the one operating window wide open, but it let in the noise of sirens and homeless derelicts fighting in the alley below.Luckily we were usually exhausted from our daily excursions and slept fairly well.With the right owners, managers and staff this could be a boutique hotel commanding more moderate prices, but the cheap cost-cutting and building violations going on in the name of saving a few bucks on maintenance have left this place a death trap.The City and County of San Francisco acted quickly sending a building inspector around on Tuesday (we complained Monday) and he rang me in LA to say they had violated many areas of the building code and were issued with an infringement notice. Hopefully the State Dept responsible for the safety cert for the elevator will act accordingly also.The only good thing about the hotel was it's central location th BART, MUNI, and the Pride Festival. Certainly not worth the fifty dollars nightly we paid to sleep in a death trap, but worth fifty a night once they clean up their act.feel free to email for photos too large to post on site. rosebush40@yahoo.co.nzBruce GrovesRose Bush Entertainments(--)\\t\\nJun 8 2006\\tThe worst hotel I have ever stayed at in the world\\tI do not recommend this hotel at all!!! I stayed at the Abigail Hotel (March 10-March 13, 2006). It is the worst hotel that I have ever stayed at. I have posted some photos from my visit. I booked this hotel since it had OK reviews on other websites. I booked two non-smoking rooms and was told that they could not guarantee that the guests had not been smoking there. They even have a no smoking sign on the 6th floor, but I guess it doesn't matter... One of the rooms on the 6th floor was OK (not smelling like a bar), but the other one had both an ash tray in it as well as it was stinking of smoke. I went to the reception and he offered me another room, also smoky, then another room on the 5th floor which was even worse. The corridor had not been cleaned in weeks, with dirt and things lying around on the floor, so I went to the reception once again and I was offered another room on the 6th floor. They did not have an extra key for that one, so someone from the reception would have to accompany me and my husband to open the door every time we needed to enter. Well, I said that was unacceptable, so finally the receptionist found another room on the 6th floor that did not smell. By then I was so tired that I accepted the room.On of the old windows in the entry was broken and has been taped together and it looks unfinished. The owners/employees are not too friendly and hardly says hello when you pass them. The famous Millennium Vegetarian Restaurant has moved to another location, contrary to what it says on other websites.\\t\\nMar 21 2006\\tAbigail you're a major disappointment!\\tThis hotel was nothing like the image created by its website. I was expecting a homely bijoux hotel, but was greeted by a cold and dark hallway and an even colder room.The ratings on a series of sites ranged from 3*to 5*, so I was hoping for a modicum of cleanliness. Again, I was disappointed.Staff, though friendly, were of not much use. On my first day, upon enquring which direction I should go in (I'd read warnings about the area several blocks away, so wanted to avoid it) the receptionist apologised that she wasn't from the area and didn't know which direction the hotel faced!I understood from the one other guest I met whilst there that in 2003 it was indeed a lovely hotel, but those owners had left. This is a shame, as it's location is excellent.\\t\\nNov 22 2005\\tThe rat hole\\t&quot;We took one look at the room and walked out, there was no way we would stay there and I would not recommend it to my worst enemy.&quot; Windows were broken, holes from cigarettes in the beds. Sheets were ripped-off. Carpet was covered with dirt. Personal told us that it was &quot;the best room they had&quot;. My daughter almost cried...\\t\\nSep 12 2005\\tA dump\\tDefinatly nothing like the description that we were given by our agents.We found the same conditions as the previous review. There was supposed to be air conditioning, our room had a ceiling fan and an old cast iron radiator and the elevator was out of order.We took one look at the room and walked out, there was no way we would stay there and I would not recommend it to my worst enemy.\\t\\nJul 8 2005\\tWhat a dump!\\tIf you read any descriptions of the Abigail Hotel, forget them. The hotel must have changed hands since they were written.There is no Millennium Vegetarian Restaurant, bar, lounge, room service, parking or coffee making facilities.The hotel is now mainly residential.The room and furnishings were grubby, there were holes in the curtains and bedding, the TV was unwatchable.Staff were unhelpful, the maid didn't turn up, we were not given clean towels (we were told there weren't any).We had booked a quad room, for 3 adults. We were given a double room with one double bed and one folding &quot;camp bed&quot;.If you want a good, budget hotel in San Francisco, try the Air Travel.\\t\\nApr 30 2005\\tYou need to be street wise!\\tWe stayed 2 weeks for $35 per night for a dbl rm. Fantastically cheap (via an agent in London) bt you get what you pay for. Clean room bt desperately old decor. Cigarette burns on the carpet and (clean) bedding. Rm cleaned/bed changed every 3 days. Web page totally inaccurate. No restaurant (famous veggie restaurant closed years ago), no tea/coffee making facilities, staff pleasant bt uninterested and no additional information or tourist advice given but for leaflets in the slightly grubby foyer. Area is incredible - our view was the beautiful City Hall but it is also a rough neighborhood so hence the title of this review! While we were there we heard arguments with the Hotel Manager and long term residents, the glass of the foyer front door was kicked in and the police visited once to evict a tenant.I would suggest young, travel wise backpackers stay here for a few nights only.Traditional tourists; you won't like it. Families with children; absolutely not.\\t\\nSep 28 2004\\tNot bad for the price.\\tI found this hotel at the last minute for a three night stay in September 2004. It is an odd place. It is a Howard Johnson hotel, but is really part hotel and low-income residence. The front part of the building is a hotel, the rest are tenant-occupied. For this reason it is a little unnerving. The rooms are clean, just a little worn. They look like old studios quickly converted to hotel rooms with TV armoires in front of an old closet door. The rates were cheap and the staff nice but they weren't very fluent in English. No parking available. Close to Civic Center and easy to walk to Market Street.\\t\\nSep 10 2009 \\tImmonde et Insalubre\\t\\t\\nSep 7 2009 \\tAttenzione attenzione lasciate perdere\\t\\t\\nJul 25 2007 \\t50:50\\t\\t\\nDec 31 2006\\tH�tel � �viter !\\t\\t\\nSep 26 2006 \\tNON METTETECI PIEDE! DON'T COME IN THIS HOTEL. WARNING RAT!\\t\\t\\n\""
      ]
     },
     "execution_count": 9,
     "metadata": {},
     "output_type": "execute_result"
    }
   ],
   "source": [
    "documents[0].text"
   ]
  },
  {
   "cell_type": "code",
   "execution_count": null,
   "metadata": {
    "collapsed": true
   },
   "outputs": [],
   "source": []
  },
  {
   "cell_type": "code",
   "execution_count": 10,
   "metadata": {},
   "outputs": [
    {
     "name": "stdout",
     "output_type": "stream",
     "text": [
      "Jaccard Similarity of doc 1 and doc 2 is 0.5088321884200196\n"
     ]
    }
   ],
   "source": [
    "for d in documents: \n",
    "    d.createShingles()\n",
    "    d.hashShingles() \n",
    "    \n",
    "print(\"Jaccard Similarity of doc 1 and doc 2 is {}\".format(documents[1].jaccardSimilarity(documents[2])))"
   ]
  },
  {
   "cell_type": "code",
   "execution_count": 11,
   "metadata": {},
   "outputs": [
    {
     "data": {
      "text/plain": [
       "OrderedSet(['Oct 30 200', '9 \\tOK valu', 'e though s', 'habby; goo', 'd position', '.\\tI extend', 'ed a one n', 'ight stay ', 'to three. ', 'The staff ', 'were basic', 'ally helpf', 'ul when as', 'ked. My ro', 'om was cle', 'an, comfor', 'table, and', ' daily ser', 'viced. I t', 'hink the p', 'osition is', ' good for ', 'a budget h', 'otel, near', ' the Golde', 'n Gate the', 'atre, righ', 't by Asian', ' Arts Muse', 'um and Civ', 'ic Centre.', \" It's an o\", 'ld and arc', 'hitectural', 'ly atmosph', 'eric hotel', '.Negatives', ': it is ve', 'ry badly n', 'eglected. ', 'Things tha', 't might pu', 't you off ', 'are the ne', 'ed usually', ' to ring t', 'he outside', ' doorbell ', 'and wait t', 'o get some', 'one to the', ' unattende', 'd receptio', 'n, unrelia', 'ble breakf', 'ast availa', 'bility (ni', 'l when I w', 'as there b', 'ut I can s', 'ee from ot', 'her review', 's that it ', 'can appear', '!), a very', ' unreliabl', 'e (but rat', 'her beauti', 'ful) class', 'ic Otis el', 'evator, so', 'me very di', 'lapidated ', 'corridors ', 'on the way', ' to your r', 'oom when t', 'he elevato', 'r is kaput', ', shabby t', 'hough form', 'erly elega', 'nt decor, ', 'homeless o', 'n nearby s', 'treets, th', 'ough the s', 'treet imme', 'diately ou', 'tside was ', 'clear and ', 'felt safe ', 'and I didn', \"'t see any\", ' drug taki', 'ng or push', 'ing and I ', 'was never ', 'bothered a', 'nywhere. H', 'owever, I ', 'rather lik', 'ed both ho', 'tel and ne', 'ighbourhoo', 'd and felt', ' it was OK', ' value. On', 'e thing - ', 'when I ext', 'ended my s', 'tay they r', 'aised the ', 'rate above', ' the inter', 'net rate w', 'hich was i', 'n the fift', 'ies to $70', '.\\t\\nJul 17 ', \"2009 \\tdon'\", 't take it ', 'unless you', ' like bugs', ' :)\\tDespit', \"e it's old\", ' fashioned', ', I expext', 'ed it to b', 'e at least', ' nice. The', ' elevator ', 'was not wo', 'rking, so ', 'we had tak', 'e take our', ' stuff to ', 'the 4th fl', 'oor oursel', 'ves, takin', 'g into acc', 'ount, that', ' the floor', 's are much', ' higher th', 'an average', '. We found', ' bugs in t', 'he room. T', 'he neighbo', 'urhood of ', 'the hotel ', \"isn't plea\", 'sant, I me', 'an poeple.', ' Although ', 'it is not ', 'far from p', 'laces of i', 'nterest an', 'd shopping', ' centers.A', 'nyway, not', ' very good', ' memories ', 'from this ', 'hote.\\t\\nApr', ' 21 2009 \\t', 'unexpected', ' surprise\\t', 'After read', 'ing the re', 'views I wa', 's expectin', 'g the wors', 't... the h', 'otel is co', 'mfortable,', ' large roo', 'ms and fri', 'endly staf', 'f. Free br', 'eakfast wa', 's included', ' which is ', 'a lot more', ' than what', ' we got in', ' other muc', 'h more exp', 'ensive hot', 'els we sta', 'yed in in ', 'California', '. The area', ' which the', ' hotel is ', 'in is inde', 'ed ghetto,', ' drug deal', 'ers and us', 'ers but th', 'ey keep th', 'emselves t', 'o themselv', 'es. A bus ', 'or taxi is', ' advisable', ' to the ce', 'ntre as it', ' is a dist', 'ance to th', 'e main att', 'ractions. ', 'It is a bu', 'dget hotel', ' and doesn', \"'t claim t\", 'o be anyth', 'ing else, ', 'worth the ', 'money and ', 'if you are', ' travellin', 'g it is id', 'eal. San F', 'ran is rea', 'lly awesom', 'e ( least ', 'place we w', 'ere lookin', 'g forward ', 'to whilst ', 'travelling', ' Californi', 'a) however', ' it proved', ' to be ama', 'zing. We c', 'ycled gold', 'en gate br', 'idge, went', ' to Alcatr', 'az, countl', 'ess bars a', 'nd restaur', 'ants and l', 'ombard roa', 'd is neat ', 'too! If yo', 'u are stay', 'ing for a ', 'short time', ' then the ', 'Abigail is', ' fine and ', 'a normal b', 'reakfast o', 'f toast an', 'd juice is', ' what most', ' people de', 'sire for b', 'reakfast n', 'ot stacks ', 'of pancake', 's and frie', 'd food. We', 'll done Ab', 'igail for ', 'getting th', 'is right! ', 'Oh and the', 're is free', ' internet ', 'in the lob', 'by.\\t\\nDec 9', ' 2008\\tYou ', 'get what y', 'ou pay for', '!!! BEWARE', ' OF DRUGGI', \"ES\\tThere's\", ' really no', ' where to ', 'park but o', 'n the stre', 'et (parkin', 'g meters) ', \"if you're \", 'lucky enou', 'gh to find', ' a spot! T', 'he first n', 'ight we ar', 'rived we p', 'arked arou', 'nd the cor', 'ner of the', ' hotel and', ' there wer', 'e people d', 'ealing/smo', 'king crack', ' right on ', 'the sidewa', 'lk. I know', ' they saw ', 'us but obv', 'iously did', \"n't care. \", 'The alley ', 'on the sid', 'e of hotel', ' is a plac', 'e for home', 'less to al', 'so do drug', 's or pass ', 'out. Hotel', ' room was ', 'clean and ', 'cozy but t', 'hey painte', 'd the insi', 'de of the ', 'bathtub an', 'd the whol', 'e bottom w', 'as peeling', '. I wore s', 'andals in ', 'the shower', '. Breakfas', 't was just', ' toast wit', 'h jelly an', 'd coffee, ', 'tea, and j', 'uice. Fron', 't desk was', ' nice. Hot', 'el is clos', 'e to shopp', 'ing mall/f', \"armer's ma\", 'rket. Woul', \"dn't recom\", 'mend to an', 'yone with ', 'children! ', 'Overall th', 'e hotel wa', 's ok for $', '50 a night', ', but woul', 'd rather p', 'ay extra $', '$ for a ni', 'ce hotel, ', 'just to no', 't deal wit', 'h crackhea', 'ds!\\t\\nSep 1', ' 2008 \\tGre', 'at place t', 'o stay if ', \"you're you\", 'ng.\\tMy fri', 'end and I ', 'stayed her', 'e for a to', 'tal of fou', 'r nights a', 'nd had a g', 'reat time.', ' All the o', 'ther tenan', 'ts in the ', 'hotel were', ' very nice', ' and so we', 're to hote', 'l staff. T', 'he hotel i', 'tself had ', 'a very qua', 'int, old r', 'omantic fe', 'eling that', ' both of u', 's liked an', 'd the elev', 'ator was r', 'eally old ', 'and awesom', 'e. I am di', 'sappointed', ' to read t', 'hat people', ' paid less', ' than I di', 'd to stay ', 'in the hot', 'el conside', 'ring that ', 'I thought ', 'I got a pr', 'etty good ', 'rate at $6', '9 per nigh', 't. Within ', 'walking di', 'stance to ', 'BART stati', 'on, bus st', 'ops, resta', 'urants and', ' a neat fa', 'rmers mark', 'et that I ', 'saw Sunday', ' and Monda', 'y morning.', ' I will ce', 'rtainly be', ' staying h', 'ere again ', 'if I shoul', 'd return t', 'o San Fran', 'cisco.\\t\\nAp', 'r 24 2008 ', '\\tGot we pa', 'id for- bu', 't very che', 'ap\\tStayed ', 'with my wi', 'fe for 9 n', 'ights. $30', ' US a nigh', 't was grea', 't! Was in ', 'what some ', 'may think ', 'is a dodgy', ' neighbour', 'hood, but ', 'we had no ', 'problems. ', 'Geat acces', 's to publi', 'c transpor', 't. Main is', 'sue was ba', 'd plumbing', '- toilet o', 'ften block', 'ed and had', ' to move r', 'ooms once.', ' Service w', 'as also ve', 'ry minimal', '. But for ', 'the price ', 'we couldnt', ' complain ', 'too much.\\t', '\\nApr 20 20', '08 \\tHorror', ' Hotel\\tI s', 'tayed at t', 'his hotel ', 'with a fri', 'end due to', ' its close', ' proximity', ' to a conc', 'ert we wer', 'e attendin', 'g down the', ' street at', ' the Warfi', 'eld. What ', 'a mistake!', '!! Yeah it', ' had old d', 'ecor and I', \" couldn't \", 'fit on the', \" bed ( I'm\", \" 6'3). but\", ' all off t', 'hat pales ', 'in compari', 'son to wha', 't I found ', 'in the bat', 'hroom. I n', 'oticed tha', 't the cute', ' country s', 'tyle mirro', 'r was set ', 'in a windo', 'w frame. S', 'o my first', ' thought i', 's &quot; I', ' wonder if', ' his opens', ' like a wi', 'ndow?&quot', '; so I gra', 'b the wind', 'ow frame a', 'nd what do', ' ya know i', 't opened r', 'ight up. S', 'o there I ', 'am standin', 'g in the b', 'athroom st', 'aring thro', 'ugh a hole', ' in the wa', 'll into a ', 'dark hallw', 'ay about f', 'our feet w', 'ide that r', 'an the len', 'gth of our', ' room. So ', \"now I'm wo\", 'ndering if', ' my mirror', ' might be ', 'one-way an', \"d I'm afra\", 'id to show', 'er or use ', 'the toilet', '. I also c', \"an't sleep\", ' the entir', 'e night fr', 'om the fea', 'r of someo', 'ne enterin', 'g our room', ' through t', 'his mirror', '. At diffe', 'rent point', 's through ', 'the night ', 'my friend ', 'and I coul', 'd hear peo', 'ple in thi', 's vacant a', 'rea outsid', 'e our room', '. It felt ', 'like a bad', ' horror mo', 'vie. At le', 'ast we cou', 'ld watch t', 'he Dealers', ' selling c', 'rack outsi', 'de our win', 'dow all ni', 'ght for en', 'tertainmen', 't while we', \" weren't s\", 'leeping. T', 'o sum up: ', 'I will not', ' be stayin', 'g at this ', 'hotel agai', 'n.\\t\\nApr 18', ' 2008 \\tTot', 'ally misle', 'ading!\\tThi', 's was the ', 'worst hote', 'l ever!!! ', 'When I loo', 'ked it up ', 'on line it', ' looked ok', ', but when', ' I got the', 're I was r', 'eally surp', 'rised. It ', 'looked NOT', 'HING like ', 'the on-lin', \"e photo's,\", ' looking r', 'eally run ', 'down. My r', 'oom was cr', 'appy as we', 'll, and th', 'e bathroom', ' looked li', 'ke a total', ' dump! I d', \"idn't even\", ' feel safe', ' in the ho', 'tel, nor d', 'id I feel ', 'safe walki', 'ng around ', 'outside si', 'nce the ho', \"tel's in g\", 'angster-la', 'nd. No won', \"der it's s\", 'o cheap! D', 'O NOT STAY', ' HERE (ser', 'iously).\\t\\n', 'Mar 12 200', '8 \\tThis Pl', 'ace Is Hel', 'l!!!!!\\tMy ', 'hubby and ', 'I came her', 'e for our ', 'anniversar', 'y and WOW ', 'was it eve', 'r ruined. ', 'when we fi', 'rst checke', 'd in, our ', 'room was n', 'ot ready a', 'nd so they', ' went to p', 'ut us on t', 'he 5th flo', 'or and the', ' door look', 'ed like it', ' had been ', 'kicked in ', 'and the pe', 'ople 3 roo', 'ms down wa', 's really l', 'oud having', ' relations', ' went to c', 'omplain th', 'at we coul', 'd not get ', 'into room ', 'and they s', 'aid that t', 'hey were g', 'oing to pu', 't our thin', 'gs into an', 'other room', ' until ori', 'ginal room', ' was clean', 'ed and we ', 'went into ', 'room and I', ' was pisse', 'd because ', 'there was ', 'drug parap', 'henalia al', 'l over the', ' room and ', 'I took a f', 'irst aid g', 'love and p', 'icked up t', 'he crack p', 'ipe and to', 'ok it to t', 'he front d', 'esk and th', 'e guy had ', 'the galls ', 'to insinua', 'te that it', ' was mine ', 'and I got ', 'mad and le', 'ft for awh', 'ile and wh', 'en we came', ' back they', ' moved us ', 'to another', 'the mirror', ' was on th', 'e floor by', ' the wall ', 'and there ', 'was twin b', 'eds and we', ' were righ', 't next to ', 'the antiqu', 'e elevator', ' and ever ', 'time sone ', 'one came o', 'n or off o', 'f it the d', 'oor slamme', 'd and woke', ' us up. we', ' left earl', 'y and comp', 'lained to ', 'the Howard', ' Johnson C', 'orporation', ' and all t', 'he did was', ' send us a', ' coupon fo', 'r $25.0 of', 'f saying t', 'hat we can', ' use it on', ' our next ', 'visit. YEA', 'H RIGHT!!!', '\\t\\nFeb 19 2', '008 \\tDo No', 't Stay Her', 'e\\tWe knew ', 'upon booki', 'ng that Th', 'e Abigail ', 'was not a ', '5-star hot', 'el and we ', 'did not ex', 'pect it to', ' be. Howev', 'er, we exp', 'ected some', 'thing bett', 'er than a ', 'hostel in ', 'Europe. We', ' were sadl', 'y mistaken', '. Upon arr', 'ival (11 a', 'm), we wer', 'e told tha', 't check-in', ' was not u', 'ntil 3 pm ', 'were no ro', 'oms availa', 'ble at all', '. After ch', 'ecking or ', 'bags at th', 'e desk and', ' walking a', 'round unti', 'l 3 pm we ', 'returned t', 'o check in', '. We then ', 'found out ', 'that we ha', 'd 2 double', ' beds inst', 'ead of a q', 'ueen that ', 'we request', 'ed. We wer', 'e told no ', 's were ava', 'ilable at ', 'all and we', ' would hav', 'e to take ', 'that room.', ' We then d', 'iscovered ', 'no ice mac', 'hine in th', 'e hotel (y', 'et they ha', 'd ice buck', 'ets and gl', 'asses in t', 'he room; g', 'o figure).', ' There wer', 'e no elect', 'rical outl', 'ets in the', ' room, onl', 'y extensio', 'n cords th', 'at magical', 'ly came up', ' from the ', 'base board', 's (that ca', \"n't be up \", 'to fire co', 'de) and if', ' that was ', 'not weird ', 'enough, on', 'ly 2 outle', 'ts out of ', '4 on the e', 'xtension c', 'ord actual', 'ly worked.', ' The walls', ' throughou', 't the hote', 'l were den', 'ted and mu', 'dded, but ', 'never pain', 'ted again.', ' We found ', 'mold growi', 'ng in our ', 'room (um h', 'ealth liab', 'ility) and', ' the front', ' desk cler', 'ks would h', 'ave been b', 'etter suit', 'ed to work', ' fast food', ' than to b', 'e at the f', 'ront desk ', 'of a hotel', '. Even if ', 'you are on', ' a budget,', ' STAY AWAY', 'Abigail, s', 'ometimes s', 'aving mone', 'y is not w', 'orth the a', 'nnoyances ', 'and proble', 'ms you get', ' into.\\t\\nFe', 'b 2 2008 \\t', 'Scabbi-Gai', 'l Hotel\\tWe', ' stayed in', ' the Abiga', 'il Hotel f', 'or 5 night', 's, we chos', 'e it as it', ' was the c', 'heapest we', ' could fin', 'd and we w', 'ere on a s', 'trict budg', 'et!Having ', 'read the o', 'ther revie', 'ws we were', ' not expec', 'ting The R', 'itz but it', ' was disap', 'pointing. ', 'We arrived', ' at 1am, a', 'fter being', ' up 24hrs ', 'UK. Our ta', 'xi driver ', 'told us we', ' were on t', 'he outskir', 'ts of the ', \"'rough' ar\", 'ea, and ad', 'vised us n', 'ot to go p', 'ast our ro', 'ad!The hot', 'el was sha', 'bby and da', 'ted, there', ' were also', ' lots of d', 'own and ou', 'ts roaming', ' the stree', 'ts as well', '! The man ', 'on recepti', 'on was ver', 'y helpful ', '(and staff', ' were exce', 'llent thro', 'ughout our', ' stay)The ', 'lift was s', 'mall and r', 'ickety. Ou', 'r room was', ' on the to', 'p floor fa', 'cing the n', 'earby Asia', 'n Arts mus', 'eum.I have', ' to say th', 'at the hot', 'el would h', 'ave failed', ' miserably', ' on a Heal', 'th &amp; S', 'afety insp', 'ection (se', 'e photos),', ' the windo', 'ws were cr', 'acked, som', 'e were nai', 'led shut, ', 'others did', ' not shut ', 'properly!!', ' The plug ', 'sockets we', 're obvious', 'ly dangero', 'us, with m', 'asking tap', 'e and dodg', 'y wiring.T', 'he bedshee', 'ts (althou', 'gh clean) ', 'had cigare', 'tte burns ', 'in them. T', 'he bed was', ' clean and', ' comfortab', 'le though.', 'Noise wasn', 't too much', ' of a prob', 'lem, with ', 'either tra', 'ffic or ne', 'arby local', 's. We both', ' had jetla', 'g so went ', 'to bed abo', 'ut 9pm eac', 'h night an', 'd were awa', 'ke by 5am ', 'so sat in ', 'bed watchi', 'ng local n', 'ews report', 's of nearb', 'y shooting', 's!! We wer', 'e out all ', 'day and so', ' only used', ' the hotel', ' as a base', '.We had be', 'en advised', ' at the ti', 'me of book', 'ing that t', 'he hotels ', 'restaurant', ' was close', 'd for refu', 'rbishment,', ' but there', ' was a lov', 'ely bar/bi', 'stro on th', 'e corner b', 'y the hote', 'l, which s', 'howed film', 's on a mon', 'day night,', ' and had a', ' very frie', 'ndly helpf', 'ul barman!', 'Be warned ', 'that the h', 'otel is ne', 'ar to some', ' very dubi', 'ous areas,', ' and when ', 'walking ba', 'ck from th', 'e cinema/s', 'hopping ce', 'ntre we to', 'ok a wrong', ' turning a', 'nd ended u', 'p in some ', 'very unsav', 'our street', 's! The bus', ' stop taki', 'ng you to ', 'the Harbou', 'r/Pier 39 ', 'etc is jus', 't across t', 'he road so', ' definitel', 'y use this', ' if you ar', 'e travelli', 'ng back in', ' the eveni', 'ngs.I have', ' given thi', 's hotel a ', '2 out of 5', ' as the st', 'aff were v', 'ery good a', 'nd helpful', '.\\t\\nJan 16 ', '2008 \\tOK l', 'ittle hote', 'l good loc', 'ation\\tGot ', 'this hotel', ' for $50/n', 't and stay', 'ed for two', ' nights. I', 't was OK f', 'or the pri', 'ce and loc', 'ation. The', ' front des', 'k was good', ' and frien', 'dly, but n', 'ot informa', 'tive at al', 'l about th', 'e city. It', \"'s just op\", 'posite the', ' Asian Art', ' Museum an', 'd next to ', 'Civic Cent', 'er, City H', 'all, Marke', 't Street, ', 'and Civic ', 'Center BAR', 'T/Muni Sta', 'tion. Chin', 'atown and ', 'Union Squa', 're are als', 'o in a sho', 'rt-walk di', 'stance. It', \"'s in a go\", 'od locatio', 'n to get a', 'round this', ' city.We i', 'nitially b', 'ooked for ', 'a double-b', 'ed room, b', 'ut got a k', 'ing bed in', 'stead. How', 'ever, the ', 'room is qu', 'ite small ', 'with a TV,', ' a working', ' desk, and', ' a small l', 'ove seat .', ' You have ', 'a very lit', 'tle area t', 'o walk aro', 'und the be', 'd. Bathroo', 'm is rathe', 'r old, but', ' clean. Th', 'e hallway ', 'is clean a', 'nd nothing', ' looks lik', 'e some ima', 'ges posted', ' in the pa', 'st even th', \"ough they'\", 're still r', 'enovating ', 'a few gues', 't rooms. T', 'he worst t', 'hing durin', 'g our stay', ' is that t', 'he room wa', 's quite co', 'ld at nigh', 't as the h', 'eater in o', 'ur room in', ' the 6th f', \"loor didn'\", 't work wel', 'l. We aske', 'd them to ', 'fix that, ', 'but it did', \"n't help. \", 'As other r', 'eviews men', 'tioned abo', 'ut the hom', 'eless, I d', \"idn't see \", 'a lot of t', 'hem. Maybe', \" it's too \", 'cold and w', 'et during ', 'this time ', 'of year fo', 'r them to ', 'wander aro', 'und.Overal', \"l, it's go\", 'od value f', 'or budget-', 'mined trav', 'ellers.\\t\\nJ', 'an 10 2008', ' \\tFlop-Hou', 'se In Skid', ' Row\\tI hav', 'e never ha', 'd such a h', 'orrifying ', 'experience', ' at a hote', 'l in my li', 'fe! (and h', 'opefully n', 'ever will ', 'again) Upo', 'n entering', ' the &quot', ';inner san', 'ctum&quot;', ', better k', 'nown as th', 'e lobby, w', 'e were gre', 'eted by a ', 'not-so-fri', 'endly desk', ' clerk, wh', 'om, I gues', 's doubled ', 'as night w', 'atchman,( ', 'since he l', 'ater sacke', 'd out on t', 'he lobby s', 'ofa, snori', 'ng as we p', 'assed by u', 'pon return', 'ing in the', ' evening.)', ' The eleva', 'tor was so', ' rickety a', 'nd small, ', 'you could ', 'barely get', ' on with a', ' small sui', 'tcase. The', ' floor had', ' a mushy b', 'ounce to i', 't, and it ', 'felt like ', 'it was lin', 'ed with ca', 'rdboard. A', 's it lurch', 'ed into it', 's ascent, ', 'I remember', ' reciting ', \"the Lord's\", ' Prayer. W', 'hen we fin', 'ally reach', 'ed our flo', 'or, I was ', 'still pray', 'ing as we ', 'opened the', ' door to t', 'he &quot;l', 'ittle shop', ' of horror', 's.&quot; T', 'he exposed', ' wires of ', 'a single l', 'ight bulb ', 'dangled fr', 'om the cei', 'ling fan, ', 'which more', ' resembled', ' an interr', 'ogation de', 'vice rathe', 'r than an ', 'actual fix', 'ture. The ', 'other code', ' violation', 's and many', ' infractio', 'ns we took', ' note of a', 're too num', 'erous to m', 'ention her', 'e. That ni', 'ght, when ', 'we returne', 'd to our h', 'otel room,', ' exhausted', ' from walk', 'ing around', ' the area ', 'in search ', 'of alterna', 'te options', ' for lodgi', 'ng, which ', 'my son fou', 'nd on line', ', we were ', 'about to c', 'limb into ', 'bed, when ', 'I noticed ', 'the staine', 'd and ding', 'y-looking ', 'bed linen.', ' We went d', 'own to our', ' vehicle a', 'nd brought', ' up a blan', 'ket and la', 'id it on t', 'op of the ', 'bed, where', ' we &quot;', 'slept&quot', '; fully cl', 'othed, rea', 'dy to depa', 'rt at day-', 'break. Unf', 'ortunately', ', not much', ' sleep act', 'ually occu', 'rred becau', 'se we were', ' awakened ', 'to the sou', 'nds of ver', 'y loud arg', 'uing and s', 'creaming e', 'manating f', 'rom the ru', 'n-down bui', 'lding next', 'he hotel. ', 'This went ', 'on until d', 'ay-break, ', 'when my hu', 'sband turn', 'ed to me a', 'nd said , ', '&quot;Are ', 'you ready?', '&quot; , t', 'o which I ', 'wasted no ', 'time jumpi', 'ng off tha', 't flea-bag', ' bed, grab', 'bing our b', 'elongings,', ' and racin', 'g to the r', 'ickety ele', 'vator. As ', 'we flew by', ' desk, bag', 's in hand,', ' I heard t', 'he clerk i', 'nquire &qu', 'ot;Are you', ' coming ba', 'ck?&quot;,', ' to which ', 'I hollered', ' over my s', 'houlder, &', 'quot;NO! I', ' will neve', 'r come bac', 'k here aga', 'in!&quot; ', 'As we pull', 'ed away fr', 'om the cur', 'b, I bade ', 'goodbye to', 'il Hotel (', 'and the re', 'probate ur', 'inating on', ' the lamp ', 'post outsi', 'de the bui', 'lding) NEV', 'ER AGAIN!!', '\\t\\nNov 15 2', '007 \\tNice ', 'clean hote', 'l great fo', 'r the pric', 'e!\\tWe stay', 'ed at this', ' hotel rec', 'ently and ', 'I had book', 'ed it afte', 'r reading ', 'the latest', ' Oct 2007 ', 'reveiws an', 'd yes I ha', 've to agre', 'e with the', 'm that alt', 'hough its ', 'not the be', 'st hotel i', 'n town, I ', 'dont think', ' you could', ' get a bet', 'ter deal f', 'taion in d', 'owntown Sa', 'n Francisc', 'o. The hot', 'el is neat', ' and clean', ', yes it i', 's old but ', ' looking t', 'o just sle', 'ep during ', 'its a good', ' place. We', ' were in S', 'FO for a s', 'hort time ', 'and were m', 'ostly out ', 'exploring ', 'the city d', 'uring the ', 'day, so it', ' worked ou', 't great fo', 'r us. Its ', 'definitely', ' not the p', 'lace for y', 'ou if you ', 'have in mi', 'nd a relax', 'ing hotel ', 'stay! The ', 'staff is c', 'urteous an', 'd quite he', 'lpful\\t\\nOct', ' 21 2007 \\t', 'We found t', 'to be quit', 'e quaint a', 'nd charmin', 'g.\\tThe own', 'er took a ', 'personal i', 'nterest in', ' us. We we', 're always ', 'greeted up', 'on enterin', 'g the hote', 'l. The roo', 'm was very', ' clean, wi', 'th the hou', 'sekeeping ', 'staff comi', 'ng in dail', 'y to chang', 'e the line', 'n and towe', 'ls. On our', ' first day', ' there, th', 'ey called ', 'the cab co', 'mpany for ', 'us to get ', 'to the hos', 'pital on t', 'ime. We li', 've in the ', 'country an', 'd really d', 'islike cit', 'y living, ', 'but the st', 'aff at the', ' Abigail m', 'ade us fee', 'l at home.', 'For the pr', 'ice, you c', \"an't beat \", 'it.4 STARS', 'Endorsed b', 'y Dalevis ', '(An Elvis ', 'Tribute Ar', 'tist)\\t\\nJun', ' 8 2007\\tGo', 'n and a cu', 'te hotel!\\t', 'I found th', 'Hotel to b', 'e very agr', 'eeable, es', 'pecially f', 'ce. The ro', 'om was spa', 'cious and ', 'clean, wit', 'h new lock', 's and ligh', 'ting fixtu', 'res. The s', 'taff was a', 'lways frie', 'ndly and s', 'eemed hard', '-working. ', 'This hotel', ' is in a g', 'reat locat', 'ion - a sh', 'ort walk a', 'way from t', 'he Opera H', 'ouse and M', 'arket Stre', 'et, and no', 't too far ', 'by foot fr', 'om Chinato', 'wn or Unio', 'n Square, ', 'if one doe', \"sn't mind \", 'a short hi', 'ke. The on', 'ly downsid', 'es I could', ' find were', ' that the ', 'hotel is r', 'ather old ', 'and in nee', 'd of cosme', 'tic renova', 'tion (thou', 'gh that in', ' no way re', 'flects the', ' quality o', 'f service ', 'and room c', 'omfort), a', 'nd that th', 'e area in ', 'which it i', 's located ', '- the Civi', 'c Center -', ' is a litt', 'le seedy. ', 'However, w', 'e had a gr', 'eat experi', 'ence there', ' and reall', 'y enjoyed ', 'our stay!\\t', '\\nMar 14 20', '07 \\tOK for', ' the Price', '; Excellen', 't customer', ' service\\tW', 'ell, I rea', 'd the prev', 'ious comme', 'nts and al', 'l I can sa', 'y is that ', 'I had a di', 'fferent ex', 'perience. ', 'Staff was ', 'very proac', 'tive and e', 'ducated, w', 'illing to ', 'help all t', 'he time. T', 's good for', ' the price', '. Location', ' in downto', 'wn, you ca', 'nnot beat ', 'that. I kn', 'ow, it is ', 'not the GR', 'EATEST pla', 'ce on eart', 'h, but the', 'y are tryi', 'ng to prov', 'ide a clea', 'n and good', ' service. ', 'I definete', 'ly come ba', 'ck to the ', 'Abigail Ho', 'tel and I ', 'hope that ', 'you do so ', 'too. RELAX', '.AGAIN, it', ' is not th', 'e best for', ';picky&quo', 't; individ', 'uals.\\t\\nOct', ' 10 2006 \\t', 'The Worst ', 'Hotel in t', 'he US\\tWe s', 'tayed in t', 'the past w', 'eekend, Oc', 't 6, 2006,', ' on our we', 'ekend geta', 'way to SF.', \" I'm not a\", ' picky one', ' or could ', 'care less ', 'about fanc', 'y hotels b', 'ut boy, th', 'is was som', 'ething. Wh', 'en you jus', 't enter th', 'e hotel, i', 't looks ol', 'd and has ', 'this smell', ' to it but', ' they were', ' remodelin', 'g the lobb', 'y, so, we ', \"didn't car\", 'e. We had ', 'a room on ', 'the 5th fl', 'oor and wh', 'en we ente', 'red, I was', ' shocked. ', 'Check out ', 'the pictur', 'es posted ', 'in one of ', 'the other ', 'reviews. T', \"hat's exac\", 'tly how th', 'e room loo', 'ked like -', ' broken ca', 'binet door', 's, chipped', ' ceiling/w', 'alls, no c', 'urtains, d', 'irty windo', 'ws, a dirt', 'y bathroom', '. The wors', 't thing wa', 's the bed ', 'itself. Th', 'e sheets w', 'ere dirty,', ' had &quot', ';stains&qu', 'ot; on the', 'm and ther', 'e was ciga', 'rette smok', 'e smell ev', 'erywhere. ', 'We went do', 'wnstairs a', 'nd asked f', 'or a new b', 'lanket. Th', 'e guy brou', 'ght a new ', 'one but di', \"dn't take \", 'the old on', 'e and told', ' us to thr', 'ow it on t', 'he floor. ', 'He still d', \"idn't offe\", 'r to chang', 'e the bed ', 'sheets and', ' the pillo', 'w covers. ', 'It was too', ' late for ', 'us to go a', 'nywhere el', 'se and wer', 'e forced t', 'o spend th', 'e night th', 'ere. I hon', 'estly thin', \"k that it'\", 's hazardou', 's to stay ', 'here. They', ' must be i', 'n violatio', 'n of some ', 'sort of la', 'ws. My nos', 'e was swol', 'len the ne', 'xt morning', '. It was s', 'o terrible', ' that come', ' next morn', 'ing, we ch', 'ecked out.', ' I beg eve', 'rybody to ', 'please DO ', 'NOT check ', 'into this ', 'hotel. The', 're are oth', 'er very af', 'fortable h', 'otels arou', 'nd that ar', 'e CLEAN. F', 'or example', ', just blo', 'cks away i', 's Red Coac', 'h Lodge - ', \"that's whe\", 're we stay', 'ed our sec', 'ond night.', '\\t\\nJun 29 2', '006 \\teven ', 'the fleas ', 'have fled\\t', 'We left bo', 'oking a ho', 'tel until ', 'the last m', 'inute, whi', 'ch gave us', ' few optio', 'ns. On wal', 'king up to', 'il we were', ' a little ', 'put off by', ' the ideal', ' location ', '- ideal fo', 'r the Prid', 'e festival', ' being rig', 'ht in the ', 'middle of ', 'the Civic ', 'Center, bu', 't every st', 'reet was a', 'wash with ', 'litter and', ' debris an', 'd winos an', 'd other ho', 'meless sle', 'pt in the ', 'alleys and', ' doorways ', 'near the h', 'otel.The e', 'ntrance do', 'or is flan', 'ked by a l', 'arge early', ' art deco ', 'stained gl', 'ass leadli', 'ght that i', 's broken a', 'nd held to', 'gether wit', 'h duct tap', 'e - very c', 'lassy. The', ' entrance ', 'foyer is c', 'arpeted in', ' a dark re', 'd carpet w', 'ith holes ', 'and worn p', 'atches. Ev', 'erything a', 'ppears to ', 'have a coa', 't of paint', ' for each ', 'year of op', 'eration, s', 'ome of it ', 'flaked off', ' in patche', 's, but jus', 't painted ', 'over again', '. Lead poi', 'soning her', 'e we come.', 'The first ', 'flight of ', 'stairs is ', 'dangerous ', '- very ste', 'ep with sm', 'all width ', 'steps, but', ' the warni', 'ng sign to', ' hold on t', 'o the stai', 'r rail is ', 'at the top', ' of the st', 'airs, and ', 'the stair ', 'railing is', ' coming aw', 'ay from th', 'e wall - a', ' good tug,', ' or the we', 'ight of a ', 'body grabb', 'ing it in ', 'a fall wil', 'l send you', ' crashing ', 'down about', ' 15 feet t', 'o the floo', 'r below.Th', 'e old-styl', ' has no ha', 'ndle on th', 'e concerti', 'na grill d', 'oor - mean', 'ing you sq', 'uash your ', 'hand if yo', \"u don't re\", 'move it qu', 'ickly enou', 'gh.Each fl', 'oor is the', ' same as t', 'he last - ', 'with flaki', 'ng paint a', 'nd other d', 'ebris litt', 'ering the ', 'carpet, an', 'd evicted ', \"residents'\", ' belonging', 's and brok', 'en applian', 'ces left i', 'n the hall', 'ways.The s', 'moke alarm', ' was broke', 'n in our r', 'oom, as wa', 's one of t', 'he sash wi', 'ndows - cr', 'ashing dow', 'n after I ', 'opened it ', '- lucky my', ' head wasn', \"'t in the \", 'open space', ' - not tha', 't there is', ' a view - ', 'it looks i', 'nto an all', 'eyway each', ' side, in ', 'which the ', 'bag ladies', ' and bagme', 'n sleep in', ' all their', ' stench an', 'd glory. T', 'here was a', 'lso no flo', 'or plan ma', 'p on the b', 'ack of the', ' door to e', 'xplain whe', 're the fir', 'e exits wh', 'ere in the', ' case of a', 'n emergenc', 'y.We notic', 'ed the cer', 'tificate f', 'or the saf', 'tey of the', 'expired in', ' June 2005', ', a point ', 'we took up', ' with the ', 'State depa', 'rtment res', 'ponsible e', 'ven though', ' the duty ', 'manager (w', 'ho gave hi', 's names as', ' Andy, And', 'y Patel, a', 'nd Andy Su', 'chek) lied', ' many time', 's to us ab', 'out how th', 'ey did hav', 'e a valid ', 'certificat', 'e at the o', 'ffice and ', 'it was bei', 'ng faxed f', 'or us to s', 'ee. We nev', 'er did get', ' to see it', '. The fire', ' hose cert', 'ificate on', ' floor 4 w', 'as also ex', 'pired, but', ' at least ', 'the fire e', 'xtinguishe', 'r certific', 'ate was cu', 'rrent by s', 'ix months.', 'The bathro', 'om was ven', 'tilated wi', 'th a sash ', 'window pai', 'nted over ', '(and over)', ' opening i', 'nto a shaf', 't that sme', 'lled as if', ' a pigeon ', 'had lain d', 'eceased at', ' the botto', 'm for some', ' months. N', 'o shelf to', ' put your ', 'shampoo or', ' makeup on', ' either. W', 'hen we arr', 'ived late ', 'in the day', ', there we', 're no towe', 'ls other t', 'han an old', ' handtowel', '. When we ', 'finally re', 'ceived the', ' full quot', 'a of bath ', 'linen two ', 'days later', ' so small ', 'and thread', 'bare. A to', 'wel when h', 'eld vertic', 'ally stret', 'ched from ', 'the floor ', 'to just ab', 'ove the kn', 'ees - I am', \" 5' 10&quo\", 't;.The bed', ' was a kin', 'g size whi', 'ch would h', 'ave been l', 'ovely exce', 'pt that it', ' left litt', 'le room in', ' the room ', 'for the ot', 'her furnit', 'ure - we b', 'anged our ', 'shins many', ' times get', 'ting aroun', 'd the bed.', ' It was ma', 'de up with', ' white pol', 'y/cotton s', 'heets - fo', 'r a double', ' bed, judg', 'ing by the', ' amount on', ' each side', ' too short', '. We had t', 'o show the', ' Indian ma', 'id how to ', 'make up th', 'e bed with', ' the sheet', 's going no', 'rth/south ', 'instead of', ' east/west', '. She was ', 'right to m', 'ake the be', 'ds east/we', 'st though ', 'as that wa', 's the only', ' way the s', 'heets fitt', 'ed!!!The b', 'lanket had', ' as many h', 'oles in it', ' as we sta', 'yed nights', ' (six) and', ' the quilt', 'ed cover h', 'ad cigaret', 'te burns i', 'n it, as d', 'id the sid', 'e table.Th', 'e armchair', ' was cover', 'ed with a ', 'slip cover', 'long in ne', 'ed of a go', 'od wash - ', 'especially', ' as it was', ' splattere', 'd with dri', 'ed blood d', 'own one si', 'de! Hepati', 'tus B and ', 'C here we ', 'come!The r', 'oom carpet', ' was worn ', 'and very s', 'tained, ev', 'en more so', ' when at t', 'hree one m', 'orning we ', 'awoke to t', 'he sound o', 'f running ', 'water only', ' to find t', 'he light f', 'itting abo', 've the doo', 'r was gush', 'ing water ', 'from the f', 'loor above', '. The carp', 'et remaine', 'd soggy fo', 'r the rema', 'inder of o', 'ur stay, e', ' we were a', 'ssured the', 'y had a we', 't/dry vacu', 'um cleaner', ' to deal w', 'ith it.It ', 'looks like', ' every pro', 'blem is fi', 'xed by a n', 'ear-sighte', 'd home-han', 'dyman - th', 'e type tha', 't smears p', 'laster ove', 'r cracks a', 'nd holes b', \"ut doesn't\", ' sand it s', 'mooth befo', 're applyin', 'g liberal ', 'coats of p', 'aint. This', ' was evide', 'nt in thre', 'e large cr', 'acks aroun', 'd the ceil', 'ing fan, t', 'he bedroom', ' wall ligh', 't switch, ', 'the bathro', 'om sink wa', 'll mounts,', ' and numer', 'ous holes ', 'and such p', 'atched on ', 'each floor', ' in the st', 'airwell.A ', 'small bar ', 'fridge and', ' microwave', ' was in th', 'e room as ', 'well as a ', 'very large', ' televisio', 'n. Of the ', '80 or so c', 'hannels it', ' recieved ', 'only two w', 'ere clear ', 'enough to ', 'view. The ', 'microwave ', 'was placed', ' precariou', 'sly on top', ' of the ba', 'r fridge w', 'hich was t', 'oo low dow', 'n on the f', 'loor to be', 'ly used an', 'd the frid', 'ge was too', ' large to ', 'fit in the', ' aperture ', 'for it in ', 'the enormo', 'us wall un', 'it housing', ' the huge ', 'tv. We mov', 'ed the mic', 'rowave to ', 'atop the l', 'arge desk ', 'taking up ', 'an entire ', 'corner of ', 'the room.T', 'he telepho', 'ne did not', ' work at a', 'll, we com', 'plained tw', 'ice and wh', 'en it was ', 'finally fi', 'xed, it di', 'd not acce', 'pt 1-800 n', 'umbers - w', 'e had to m', 'ake those ', 'from a pay', 'phone down', 'stairs - a', ' bit diffi', 'cult to ri', 'ng up the ', '1-800 numb', 'ers for an', ' alternati', 've hotel. ', 'There was ', 'also no sc', 'hedule of ', 'charges in', 'for such t', 'hings as s', 'tealing th', 'e towels o', 'r making t', 'oll calls.', 'We stayed ', 'the length', ' of our st', 'ay (six ni', 'ghts) beca', 'use we had', ' no other ', 'place to s', 'tay, and a', 'ccomodatio', 'n was at a', ' premium d', 'ue to the ', 'Pride fest', 'ival. We c', \"an't say i\", 't was clea', 'n - as it ', \"wasn't. We\", \" can't say\", ' it was co', \"n't when w\", 'e had to c', 'hase bed s', 'heets arou', 'nd all nig', 'ht, and wo', 'rried over', ' how the h', 'uge cracks', ' in the ce', 'ling surro', 'unding the', ' celing fa', 'n mount go', 't there...', 'It certain', \"ly wasn't \", 'quiet. The', ' smell of ', 'the dehydr', 'ating pige', 'on and the', ' years of ', '&quot;resi', 'dents&quot', '; in the r', 'oom meant ', 'we kept th', 'e one oper', 'ating wind', 'ow wide op', 'en, but it', ' let in th', 'e noise of', ' sirens an', 'd homeless', ' derelicts', ' fighting ', 'in the all', 'ey below.L', 'uckily we ', 'were usual', 'ly exhaust', 'ed from ou', 'r daily ex', 'cursions a', 'nd slept f', 'airly well', '.With the ', 'right owne', 'rs, manage', 'rs and sta', 'ff this co', 'uld be a b', 'outique ho', 'tel comman', 'ding more ', 'moderate p', 'rices, but', ' the cheap', ' cost-cutt', 'ing and bu', 'ilding vio', 'lations go', 'ing on in ', 'the name o', 'f saving a', ' few bucks', ' on mainte', 'nance have', ' left this', ' place a d', 'eath trap.', 'The City a', 'nd County ', 'of San Fra', 'ncisco act', 'ed quickly', ' sending a', ' building ', 'inspector ', 'around on ', 'Tuesday (w', 'e complain', 'ed Monday)', ' and he ra', 'ng me in L', 'A to say t', 'hey had vi', 'olated man', 'y areas of', ' the build', 'ing code a', 'nd were is', 'sued with ', 'an infring', 'ement noti', 'ce. Hopefu', 'lly the St', 'ate Dept r', 'esponsible', ' for the s', 'afety cert', ' for the e', 'levator wi', 'll act acc', 'ordingly a', 'lso.The on', 'ly good th', 'ing about ', \"was it's c\", 'entral loc', 'ation th B', 'ART, MUNI,', ' and the P', 'ride Festi', 'val. Certa', 'inly not w', 'orth the f', 'ifty dolla', 'rs nightly', ' we paid t', 'o sleep in', ' a death t', 'rap, but w', 'orth fifty', ' a night o', 'nce they c', 'lean up th', 'eir act.fe', 'el free to', ' email for', ' photos to', 'o large to', ' post on s', 'ite. roseb', 'ush40@yaho', 'o.co.nzBru', 'ce GrovesR', 'ose Bush E', 'ntertainme', 'nts(--)\\t\\nJ', 'un 8 2006\\t', 'The worst ', 'hotel I ha', 've ever st', 'ayed at in', ' the world', '\\tI do not ', 'recommend ', ' at all!!!', ' I stayed ', 'at the Abi', 'gail Hotel', ' (March 10', '-March 13,', ' 2006). It', ' is the wo', 'rst hotel ', 'that I hav', 'e ever sta', 'yed at. I ', 'have poste', 'd some pho', 'tos from m', 'y visit. I', ' booked th', 'is hotel s', 'ince it ha', 'd OK revie', 'ws on othe', 'r websites', '. I booked', ' two non-s', 'moking roo', 'ms and was', ' told that', ' they coul', 'd not guar', 'antee that', ' the guest', 's had not ', 'been smoki', 'ng there. ', 'They even ', 'have a no ', 'smoking si', 'gn on the ', '6th floor,', ' but I gue', 'ss it does', \"n't matter\", '... One of', ' the rooms', ' on the 6t', 'h floor wa', 's OK (not ', 'smelling l', 'ike a bar)', ', but the ', 'other one ', 'had both a', 'n ash tray', ' in it as ', 'well as it', ' was stink', 'ing of smo', 'ke. I went', ' to the re', 'ception an', 'd he offer', 'ed me anot', 'her room, ', 'also smoky', ', then ano', 'ther room ', 'on the 5th', ' floor whi', 'ch was eve', 'n worse. T', 'he corrido', 'r had not ', 'been clean', 'ed in week', 's, with di', 'rt and thi', 'ngs lying ', 'the floor,', ' so I went', 'ception on', 'ce again a', 'nd I was o', 'ffered ano', 'on the 6th', ' floor. Th', 'ey did not', ' have an e', 'xtra key f', 'or that on', 'e, so some', 'one from t', 'he recepti', 'on would h', 'ave to acc', 'ompany me ', 'and my hus', 'band to op', 'en the doo', 'r every ti', 'me we need', 'ed to ente', 'r. Well, I', ' said that', ' was unacc', 'eptable, s', 'o finally ', 'the recept', 'ionist fou', 'nd another', ' room on t', 'he 6th flo', 'or that di', 'd not smel', 'l. By then', ' I was so ', 'tired that', ' I accepte', 'd the room', '.On of the', ' old windo', 'ws in the ', 'entry was ', 'broken and', ' has been ', 'taped toge', 'ther and i', 't looks un', 'finished. ', 'The owners', '/employees', ' are not t', 'oo friendl', 'y and hard', 'ly says he', 'llo when y', 'ou pass th', 'em. The fa', 'mous Mille', 'nnium Vege', 'tarian Res', 'taurant ha', 's moved to', ' another l', 'ocation, c', 'ontrary to', ' what it s', 'ays on oth', 'er website', 's.\\t\\nMar 21', ' 2006\\tAbig', \"ail you're\", ' a major d', 'isappointm', 'ent!\\tThis ', 'hotel was ', 'nothing li', 'ke the ima', 'ge created', ' by its we', 'bsite. I w', 'as expecti', 'ng a homel', 'y bijoux h', 'otel, but ', 'was greete', 'd by a col', 'd and dark', ' hallway a', 'nd an even', ' colder ro', 'om.The rat', 'ings on a ', 'series of ', 'sites rang', 'ed from 3*', 'to 5*, so ', 'I was hopi', 'ng for a m', 'odicum of ', 'cleanlines', 's. Again, ', 'I was disa', 'ppointed.S', 'taff, thou', 'gh friendl', 'y, were of', ' not much ', 'use. On my', ', upon enq', 'uring whic', 'h directio', 'n I should', \" go in (I'\", 'd read war', 'nings abou', 't the area', ' several b', 'locks away', ', so wante', 'd to avoid', ' it) the r', 'eceptionis', 't apologis', 'ed that sh', \"e wasn't f\", 'rom the ar', 'ea and did', \"n't know w\", 'hich direc', 'tion the h', 'otel faced', '!I underst', 'ood from t', 'he one oth', 'er guest I', ' met whils', 't there th', 'at in 2003', ' it was in', 'deed a lov', 'ely hotel,', ' but those', ' owners ha', 'd left. Th', 'is is a sh', 'ame, as it', \"'s locatio\", 'n is excel', 'lent.\\t\\nNov', ' 22 2005\\tT', 'he rat hol', 'e\\t&quot;We', ' took one ', 'look at th', 'e room and', ' walked ou', 't, there w', 'as no way ', 'we would s', 'tay there ', 'and I woul', 'd not reco', 'mmend it t', 'o my worst', ' enemy.&qu', 'ot; Window', 's were bro', 'ken, holes', ' from ciga', 'rettes in ', 'the beds. ', 'Sheets wer', 'e ripped-o', 'ff. Carpet', 'ed with di', 'rt. Person', 'al told us', ' that it w', 'as &quot;t', 'he best ro', 'om they ha', 'd&quot;. M', 'y daughter', ' almost cr', 'ied...\\t\\nSe', 'p 12 2005\\t', 'A dump\\tDef', 'inatly not', 'hing like ', 'the descri', 'ption that', ' we were g', 'iven by ou', 'r agents.W', 'e found th', 'e same con', 'ditions as', ' the previ', 'ous review', '. There wa', 's supposed', ' to be air', ' condition', 'ing, our r', 'oom had a ', 'ceiling fa', 'n and an o', 'ld cast ir', 'on radiato', 'r and the ', 'elevator w', 'as out of ', 'order.We t', 'ook one lo', 'ok at the ', 'room and w', 'alked out,', ' there was', ' no way we', ' would sta', 'y there an', 'd I would ', 'not recomm', 'end it to ', 'my worst e', 'nemy.\\t\\nJul', ' 8 2005\\tWh', 'at a dump!', '\\tIf you re', 'ad any des', 'criptions ', 'of the Abi', ', forget t', 'hem. The h', 'otel must ', 'have chang', 'ed hands s', 'ince they ', 'were writt', 'en.There i', 's no Mille', 'taurant, b', 'ar, lounge', ', room ser', 'vice, park', 'ing or cof', 'fee making', ' facilitie', 's.The hote', 'l is now m', 'ainly resi', 'dential.Th', ' furnishin', 'gs were gr', 'ubby, ther', 'e were hol', 'es in the ', 'curtains a', 'nd bedding', ', the TV w', 'as unwatch', 'able.Staff', ' were unhe', 'lpful, the', ' maid didn', \"'t turn up\", 'not given ', 'clean towe', 'ls (we wer', 'e told the', \"re weren't\", ' any).We h', 'ad booked ', 'a quad roo', 'm, for 3 a', 'dults. We ', 'were given', ' a double ', 'room with ', 'one double', ' bed and o', 'ne folding', ' &quot;cam', 'p bed&quot', ';.If you w', 'ant a good', ', budget h', 'otel in Sa', 'o, try the', ' Air Trave', 'l.\\t\\nApr 30', ' 2005\\tYou ', 'need to be', ' street wi', 'se!\\tWe sta', 'yed 2 week', 's for $35 ', 'per night ', 'for a dbl ', 'rm. Fantas', 'tically ch', 'eap (via a', 'n agent in', ' London) b', 't you get ', 'what you p', 'ay for. Cl', 'ean room b', 't desperat', 'ely old de', 'cor. Cigar', 'ette burns', ' on the ca', 'rpet and (', 'clean) bed', 'ding. Rm c', 'leaned/bed', ' changed e', 'very 3 day', 's. Web pag', 'e totally ', 'inaccurate', '. No resta', 'urant (fam', 'ous veggie', ' restauran', 't closed y', 'ears ago),', ' no tea/co', 'ffee makin', 'g faciliti', 'es, staff ', 'pleasant b', 't unintere', 'sted and n', 'o addition', 'al informa', 'tion or to', 'urist advi', 'ce given b', 'ut for lea', 'flets in t', 'he slightl', 'y grubby f', 'oyer. Area', ' is incred', 'ible - our', ' view was ', 'the beauti', 'ful City H', 'all but it', ' is also a', ' rough nei', 'ghborhood ', 'so hence t', 'he title o', 'f this rev', 'iew! While', ' we were t', 'here we he', 'ard argume', 'nts with t', 'he Hotel M', 'anager and', ' long term', ' residents', ', the glas', 's of the f', 'oyer front', ' door was ', 'and the po', 'lice visit', 'ed once to', ' evict a t', 'enant.I wo', 'uld sugges', 't young, t', 'ravel wise', ' backpacke', 'rs stay he', 're for a f', 'ew nights ', 'only.Tradi', 'tional tou', 'rists; you', \" won't lik\", 'e it. Fami', 'lies with ', 'children; ', 'absolutely', ' not.\\t\\nSep', ' 28 2004\\tN', 'ot bad for', '.\\tI found ', ' at the la', 'st minute ', 'for a thre', 'e night st', 'ay in Sept', 'ember 2004', '. It is an', ' odd place', '. It is a ', 'Howard Joh', 'nson hotel', ', but is r', 'eally part', ' low-incom', 'e residenc', 'e. The fro', 'nt part of', 'ing is a h', 'otel, the ', 'rest are t', 'enant-occu', 'pied. For ', 'this reaso', 'n it is a ', 'little unn', 'erving. Th', 'e rooms ar', 'e clean, j', 'ust a litt', 'le worn. T', 'hey look l', 'ike old st', 'udios quic', 'kly conver', 'ted to hot', 'el rooms w', 'ith TV arm', 'oires in f', 'ront of an', ' old close', 't door. Th', 'e rates we', 're cheap a', 'nd the sta', 'ff nice bu', 't they wer', \"en't very \", 'fluent in ', 'English. N', 'o parking ', 'available.', ' Close to ', 'er and eas', 'y to walk ', 'to Market ', 'Street.\\t\\nS', 'ep 10 2009', ' \\tImmonde ', 'et Insalub', 're\\t\\t\\nSep 7', ' 2009 \\tAtt', 'enzione at', 'tenzione l', 'asciate pe', 'rdere\\t\\t\\nJu', 'l 25 2007 ', '\\t50:50\\t\\t\\nD', 'ec 31 2006', '\\tH�tel � �', 'viter !\\t\\t\\n', 'Sep 26 200', '6 \\tNON MET', 'TETECI PIE', \"DE! DON'T \", 'COME IN TH', 'IS HOTEL. '])"
      ]
     },
     "execution_count": 11,
     "metadata": {},
     "output_type": "execute_result"
    }
   ],
   "source": [
    "## Example of shingles \n",
    "documents[0].shingles"
   ]
  },
  {
   "cell_type": "code",
   "execution_count": 12,
   "metadata": {},
   "outputs": [
    {
     "data": {
      "text/plain": [
       "OrderedSet([506, 232, 1127, 1072, 153, 306, 1961, 999, 860, 177, 1603, 1836, 2036, 940, 1143, 622, 2044, 1583, 1863, 1525, 618, 1394, 1036, 1149, 83, 1779, 418, 88, 1492, 1867, 638, 2013, 1983, 607, 1799, 1981, 1270, 776, 1576, 546, 315, 1829, 141, 1286, 191, 498, 237, 80, 241, 1921, 1202, 683, 1239, 939, 434, 1246, 11, 689, 466, 32, 835, 1230, 1743, 1839, 60, 973, 916, 1314, 542, 528, 1240, 1735, 445, 991, 1547, 358, 963, 1559, 1886, 1999, 972, 1276, 604, 1338, 343, 729, 181, 1928, 116, 599, 953, 229, 1124, 962, 641, 1371, 1069, 1203, 1621, 1912, 140, 1785, 1947, 170, 736, 1025, 866, 223, 819, 1535, 644, 174, 45, 1630, 1711, 1448, 261, 460, 1204, 128, 1702, 135, 769, 634, 458, 1614, 897, 758, 1369, 1349, 1556, 980, 544, 1755, 1982, 1033, 539, 119, 1837, 547, 985, 435, 724, 1184, 78, 259, 815, 810, 1359, 621, 1373, 733, 101, 675, 1224, 1407, 891, 1853, 1434, 1103, 754, 250, 1478, 66, 1639, 656, 1182, 827, 1607, 1926, 240, 1666, 1028, 1269, 1210, 804, 1089, 1644, 1298, 1150, 1029, 1042, 781, 1924, 1364, 1341, 1088, 828, 738, 1993, 640, 653, 1458, 1910, 1489, 1851, 1194, 502, 391, 660, 1452, 1766, 423, 184, 235, 243, 1819, 600, 1814, 1746, 932, 1233, 1486, 1454, 642, 912, 496, 1658, 1343, 1474, 859, 1902, 625, 1801, 282, 847, 1598, 540, 92, 1952, 1112, 222, 1965, 1346, 1496, 1068, 1900, 861, 133, 777, 1051, 1461, 1257, 814, 1473, 1015, 1727, 381, 429, 1586, 1173, 798, 130, 507, 1374, 227, 1883, 636, 1880, 966, 585, 2038, 1664, 1132, 614, 731, 1806, 1652, 293, 12, 1469, 397, 837, 468, 320, 983, 950, 295, 833, 1593, 688, 2033, 1996, 1534, 1821, 1854, 735, 1773, 1709, 2032, 1594, 400, 1769, 1759, 631, 1761, 1787, 1606, 6, 162, 1053, 1006, 905, 1351, 203, 1736, 387, 189, 1355, 763, 490, 475, 2043, 324, 696, 1915, 147, 91, 882, 1119, 1706, 2007, 1979, 2002, 9, 964, 911, 1542, 1491, 571, 1156, 1647, 854, 698, 1274, 1050, 563, 608, 270, 838, 942, 244, 1172, 1650, 989, 555, 1427, 1865, 1232, 1377, 704, 1929, 586, 1219, 1569, 1234, 1, 1587, 292, 1278, 1263, 252, 508, 428, 1267, 1520, 740, 2030, 155, 1071, 1989, 1310, 1235, 1437, 770, 1345, 412, 875, 407, 187, 1613, 789, 1950, 156, 455, 934, 681, 665, 1259, 744, 1756, 801, 1659, 1669, 63, 871, 1217, 1617, 1798, 1326, 743, 826, 385, 1191, 362, 551, 420, 1137, 1465, 617, 1945, 477, 845, 1303, 1225, 1098, 424, 1604, 1120, 348, 879, 1933, 1620, 902, 1003, 728, 998, 1708, 1384, 649, 2008, 361, 1869, 1730, 82, 1133, 1426, 1665, 1590, 1065, 491, 1325, 272, 1140, 1471, 556, 185, 14, 172, 1242, 1944, 1094, 440, 67, 574, 97, 492, 1315, 77, 679, 1375, 1408, 339, 619, 674, 368, 1004, 1686, 246, 1942, 1313, 1856, 1113, 1076, 1595, 487, 851, 2046, 1739, 1523, 2035, 1378, 120, 1415, 1304, 284, 1609, 1032, 350, 979, 595, 356, 337, 725, 1502, 920, 1022, 251, 1335, 1117, 260, 474, 90, 802, 1012, 701, 1328, 1970, 684, 1070, 1214, 1456, 529, 1777, 459, 37, 537, 527, 626, 1596, 1026, 114, 627, 1488, 612, 139, 503, 1807, 757, 1589, 64, 984, 167, 1813, 1817, 517, 974, 57, 1855, 1605, 296, 779, 1457, 1197, 1327, 1237, 1885, 1991, 1710, 2041, 494, 379, 217, 76, 1476, 1406, 1673, 1466, 164, 967, 98, 1561, 727, 697, 1887, 639, 1977, 1100, 519, 1260, 443, 1548, 73, 416, 564, 1831, 1566, 1333, 956, 677, 643, 659, 549, 224, 1752, 1392, 766, 888, 245, 893, 1411, 108, 1208, 393, 946, 1672, 285, 709, 569, 16, 380, 908, 1213, 25, 1597, 694, 1518, 1123, 1266, 1468, 461, 1528, 1842, 1055, 944, 347, 44, 590, 1757, 1790, 84, 840, 201, 896, 1196, 1381, 1498, 678, 1959, 1171, 610, 1223, 388, 1494, 927, 1432, 19, 1840, 23, 1729, 886, 1892, 712, 512, 843, 1796, 722, 1409, 1519, 275, 1618, 54, 166, 1927, 578, 1960, 1552, 714, 673, 1986, 1894, 1249, 1888, 1826, 421, 1115, 1245, 1001, 1815, 456, 535, 408, 1390, 1715, 616, 1784, 1689, 291, 48, 1641, 1144, 509, 1482, 205, 5, 1573, 1522, 1049, 1045, 605, 1319, 872, 1447, 1551, 862, 1464, 624, 1455, 112, 1107, 707, 575, 1104, 230, 1481, 1201, 115, 1742, 1363, 1995, 1899, 524, 409, 1361, 2022, 1948, 1175, 907, 817, 2029, 417, 1508, 791, 869, 1563, 816, 464, 1717, 1079, 1591, 1610, 169, 422, 1308, 633, 280, 1588, 889, 146, 248, 1414, 47, 693, 305, 109, 1973, 1758, 1331, 1066, 593, 820, 2027, 753, 1424, 792, 1624, 1275, 1688, 1529, 2003, 1008, 628, 481, 2018, 1344, 18, 765, 601, 1238, 807, 1893, 341, 1218, 1698, 1582, 1810, 1176, 1125, 221, 1670, 335, 1380, 1676, 454, 1188, 1043, 26, 808, 207, 1059, 1254, 163, 1395, 959, 1740, 958, 53, 797, 439, 1847, 1261, 2024, 1111, 39, 316, 1244, 51, 1002, 121, 110, 1536, 1413, 188, 483, 1906, 648, 263, 771, 525, 1870, 566, 390, 1309, 86, 1416, 1940, 1809, 1741, 310, 1625, 1391, 1000, 1694, 550, 710, 1812, 173, 1793, 1429, 713, 1916, 917, 726, 1544, 253, 1400, 93, 1800, 1322, 1154, 1054, 1719, 1506, 1964, 914, 1705, 1435, 338, 1695, 1917, 427, 102, 741, 1788, 1567, 646, 258, 1272, 1497, 383, 31, 1936, 242, 821, 59, 1776, 10, 126, 1209, 1145, 1412, 204, 369, 2000, 1540, 1626, 61, 1646, 645, 1770, 1289, 669, 541, 1101, 158, 650, 1935, 346, 1877, 1938, 149, 1808, 28, 99, 1387, 1187, 1306, 1398, 1879, 1794, 1292, 881, 1102, 1358, 2009, 123, 1179, 676, 1142, 584, 111, 472, 1501, 1061, 1663, 982, 943, 945, 1291, 214, 1317, 811, 1731, 1541, 1250, 8, 785, 1530, 353, 829, 1668, 1020, 1616, 1280, 226, 691, 65, 857, 1683, 995, 686, 374, 1031, 1091, 322, 1511, 376, 1655, 1087, 668, 2031, 965, 1643, 1918, 331, 85, 603, 1114, 1726, 762, 1162, 1693, 1565, 1019, 1835, 1564, 548, 545, 1661, 520, 21, 1021, 340, 1913, 202, 865, 1751, 215, 382, 1018, 1099, 1748, 100, 993, 1980, 137, 96, 254, 328, 129, 874, 666, 1515, 30, 482, 1645, 1389, 1135, 968, 17, 870, 1507, 1712, 95, 947, 1487, 1579, 1546, 58, 805, 363, 606, 705, 414, 786, 1907, 1078, 190, 495, 426, 2025, 497, 935, 510, 1231, 255, 1760, 526, 431, 1955, 2034, 1687, 706, 1718, 1690, 2010, 38, 783, 1262, 24, 1404, 469, 1405, 1802, 1634, 127, 22, 1205, 467, 1251, 206, 1951, 1116, 210, 2011, 761, 582, 1075, 538, 799, 1013, 430, 925, 15, 1510, 1348, 773, 1732, 588, 788, 1539, 1268, 1889, 1825, 523, 1479, 1131, 69, 192, 1499, 1750, 321, 732, 1905, 327, 366, 778, 755, 1010, 2006, 824, 775, 1431, 623, 87, 2021, 1090, 994, 671, 1975, 1155, 988, 961, 955, 1874, 79, 1651, 795, 1470, 981, 900, 949, 118, 311, 1365, 680, 1186, 1998, 1941, 1629, 1227, 1110, 378, 1864, 1064, 764, 312, 1121, 1167, 1911, 1878, 1599, 2039, 748, 1909, 485, 1047, 1360, 1866, 1558, 931, 279, 929, 1611, 1081, 629, 1293, 1320, 1034, 1005, 511, 43, 1484, 107, 1943, 1697, 1580, 598, 1967, 1974, 1744, 1442, 1700, 1490, 1396, 1169, 1858, 834, 303, 1290, 1861, 767, 1283, 40, 1011, 220, 1193, 1058, 1073, 1423, 1157, 437, 1627, 951, 812, 774, 288, 1041, 1185, 699, 596, 876, 997, 868, 576, 1410, 1312, 1554, 1749, 901, 1419, 1357, 1890, 33, 1957, 1282, 867, 1585, 81, 1158, 1226, 825, 1873, 151, 1600, 1636, 2005, 1146, 910, 1716, 1976, 1393, 34, 1516, 505, 2023, 954, 1994, 283, 909, 813, 1968, 1575, 1714, 2037, 1007, 532, 1745, 359, 200, 1895, 1846, 661, 1443, 233, 1148, 1763, 554, 1279, 444, 1934, 332, 1130, 1764, 1843, 336, 1872, 1786, 1533, 534, 658, 687, 1126, 375, 1581, 1774, 289, 565, 1056, 212, 1165, 2014, 1253, 195, 1403, 1287, 150, 1901, 448, 62, 432, 433, 1713, 1347, 138, 411, 1521, 1592, 124, 1844, 1057, 721, 1681, 858, 136, 1462, 1637, 885, 1216, 1388, 1161, 194, 1675, 952, 830, 1754, 1284, 1211, 277, 611, 1040, 319, 1035, 1772, 75, 1401, 1684, 449, 1241, 1281, 894, 1129, 257, 657, 271, 89, 1311, 438, 895, 652, 1638, 186, 2, 1848, 637, 1949, 1954, 344, 216, 580, 933, 154, 1302, 926, 1082, 1849, 839, 1699, 1922, 1868, 1584, 2012, 1425, 395, 1215, 531, 499, 822, 213, 209, 113, 1493, 326, 1159, 364, 864, 265, 1336, 1833, 1318, 1243, 1628, 844, 1557, 1577, 930, 1339, 971, 832, 0, 442, 1679, 1138, 581, 2028, 1195, 1875, 1277, 970, 630, 2040, 1640, 1367, 848, 35, 852, 708, 747, 1685, 323, 377, 1258, 887, 1923, 1440, 1397, 278, 462, 2020, 1662, 36, 651, 480, 1631, 1724, 711, 104, 171, 1568, 1919, 183, 937, 450, 354, 613, 211, 884, 1139, 702, 106, 1368, 1514, 756, 447, 425, 404, 247, 493, 1467, 518, 1420, 615, 1027, 479, 1797, 1632, 1307, 1601, 922, 1236, 746, 1212, 1615, 1080, 415, 2015, 313, 1562, 2017, 1633, 573, 333, 1931, 1560, 1229, 1671, 1164, 501, 1925, 1828, 308, 2045, 521, 663, 1418, 1972, 904, 1222, 1896, 1682, 1612, 1619, 782, 853, 218, 125, 856, 557, 1550, 787, 269, 1332, 1016, 602, 290, 1504, 1824, 1500, 1199, 1654, 1841, 730, 1083, 715, 647, 695, 1753, 1285, 903, 1678, 1850, 478, 515, 734, 1063, 1297, 1517, 2016, 1571, 1549, 561, 1220, 1376, 1301, 470, 152, 921, 486, 1667, 1379, 42, 399, 1086, 1782, 831, 1903, 50, 1660, 1692, 1642, 325, 923, 1485, 1792, 1354, 1093, 1680, 1804, 357, 386, 1168, 1946, 392, 655, 592, 957, 144, 1513, 1030, 591, 1288, 1649, 406, 1765, 1904, 1038, 1221, 199, 1953, 1097, 739, 1674, 1648, 1352, 1181, 268, 996])"
      ]
     },
     "execution_count": 12,
     "metadata": {},
     "output_type": "execute_result"
    }
   ],
   "source": [
    "## Example of hashed shingles \n",
    "documents[0].hashedShingles"
   ]
  },
  {
   "cell_type": "markdown",
   "metadata": {},
   "source": [
    "### Example: compute similarities for 10 documents."
   ]
  },
  {
   "cell_type": "code",
   "execution_count": 13,
   "metadata": {},
   "outputs": [
    {
     "data": {
      "text/html": [
       "<div>\n",
       "<style>\n",
       "    .dataframe thead tr:only-child th {\n",
       "        text-align: right;\n",
       "    }\n",
       "\n",
       "    .dataframe thead th {\n",
       "        text-align: left;\n",
       "    }\n",
       "\n",
       "    .dataframe tbody tr th {\n",
       "        vertical-align: top;\n",
       "    }\n",
       "</style>\n",
       "<table border=\"1\" class=\"dataframe\">\n",
       "  <thead>\n",
       "    <tr style=\"text-align: right;\">\n",
       "      <th></th>\n",
       "      <th>0</th>\n",
       "      <th>1</th>\n",
       "      <th>2</th>\n",
       "      <th>3</th>\n",
       "      <th>4</th>\n",
       "      <th>5</th>\n",
       "      <th>6</th>\n",
       "      <th>7</th>\n",
       "      <th>8</th>\n",
       "    </tr>\n",
       "  </thead>\n",
       "  <tbody>\n",
       "    <tr>\n",
       "      <th>0</th>\n",
       "      <td>1.000000</td>\n",
       "      <td>0.772772</td>\n",
       "      <td>0.458935</td>\n",
       "      <td>0.306582</td>\n",
       "      <td>0.568170</td>\n",
       "      <td>0.507455</td>\n",
       "      <td>0.484307</td>\n",
       "      <td>0.623181</td>\n",
       "      <td>0.445434</td>\n",
       "    </tr>\n",
       "    <tr>\n",
       "      <th>1</th>\n",
       "      <td>0.772772</td>\n",
       "      <td>1.000000</td>\n",
       "      <td>0.508832</td>\n",
       "      <td>0.329244</td>\n",
       "      <td>0.666014</td>\n",
       "      <td>0.602445</td>\n",
       "      <td>0.561704</td>\n",
       "      <td>0.745232</td>\n",
       "      <td>0.491908</td>\n",
       "    </tr>\n",
       "    <tr>\n",
       "      <th>2</th>\n",
       "      <td>0.458935</td>\n",
       "      <td>0.508832</td>\n",
       "      <td>1.000000</td>\n",
       "      <td>0.248547</td>\n",
       "      <td>0.414906</td>\n",
       "      <td>0.397311</td>\n",
       "      <td>0.375469</td>\n",
       "      <td>0.431427</td>\n",
       "      <td>0.344918</td>\n",
       "    </tr>\n",
       "    <tr>\n",
       "      <th>3</th>\n",
       "      <td>0.306582</td>\n",
       "      <td>0.329244</td>\n",
       "      <td>0.248547</td>\n",
       "      <td>1.000000</td>\n",
       "      <td>0.290221</td>\n",
       "      <td>0.274900</td>\n",
       "      <td>0.266943</td>\n",
       "      <td>0.290548</td>\n",
       "      <td>0.245381</td>\n",
       "    </tr>\n",
       "    <tr>\n",
       "      <th>4</th>\n",
       "      <td>0.568170</td>\n",
       "      <td>0.666014</td>\n",
       "      <td>0.414906</td>\n",
       "      <td>0.290221</td>\n",
       "      <td>1.000000</td>\n",
       "      <td>0.467153</td>\n",
       "      <td>0.451984</td>\n",
       "      <td>0.554307</td>\n",
       "      <td>0.409603</td>\n",
       "    </tr>\n",
       "    <tr>\n",
       "      <th>5</th>\n",
       "      <td>0.507455</td>\n",
       "      <td>0.602445</td>\n",
       "      <td>0.397311</td>\n",
       "      <td>0.274900</td>\n",
       "      <td>0.467153</td>\n",
       "      <td>1.000000</td>\n",
       "      <td>0.402688</td>\n",
       "      <td>0.505143</td>\n",
       "      <td>0.376298</td>\n",
       "    </tr>\n",
       "    <tr>\n",
       "      <th>6</th>\n",
       "      <td>0.484307</td>\n",
       "      <td>0.561704</td>\n",
       "      <td>0.375469</td>\n",
       "      <td>0.266943</td>\n",
       "      <td>0.451984</td>\n",
       "      <td>0.402688</td>\n",
       "      <td>1.000000</td>\n",
       "      <td>0.493067</td>\n",
       "      <td>0.373731</td>\n",
       "    </tr>\n",
       "    <tr>\n",
       "      <th>7</th>\n",
       "      <td>0.623181</td>\n",
       "      <td>0.745232</td>\n",
       "      <td>0.431427</td>\n",
       "      <td>0.290548</td>\n",
       "      <td>0.554307</td>\n",
       "      <td>0.505143</td>\n",
       "      <td>0.493067</td>\n",
       "      <td>1.000000</td>\n",
       "      <td>0.437853</td>\n",
       "    </tr>\n",
       "    <tr>\n",
       "      <th>8</th>\n",
       "      <td>0.445434</td>\n",
       "      <td>0.491908</td>\n",
       "      <td>0.344918</td>\n",
       "      <td>0.245381</td>\n",
       "      <td>0.409603</td>\n",
       "      <td>0.376298</td>\n",
       "      <td>0.373731</td>\n",
       "      <td>0.437853</td>\n",
       "      <td>1.000000</td>\n",
       "    </tr>\n",
       "  </tbody>\n",
       "</table>\n",
       "</div>"
      ],
      "text/plain": [
       "          0         1         2         3         4         5         6  \\\n",
       "0  1.000000  0.772772  0.458935  0.306582  0.568170  0.507455  0.484307   \n",
       "1  0.772772  1.000000  0.508832  0.329244  0.666014  0.602445  0.561704   \n",
       "2  0.458935  0.508832  1.000000  0.248547  0.414906  0.397311  0.375469   \n",
       "3  0.306582  0.329244  0.248547  1.000000  0.290221  0.274900  0.266943   \n",
       "4  0.568170  0.666014  0.414906  0.290221  1.000000  0.467153  0.451984   \n",
       "5  0.507455  0.602445  0.397311  0.274900  0.467153  1.000000  0.402688   \n",
       "6  0.484307  0.561704  0.375469  0.266943  0.451984  0.402688  1.000000   \n",
       "7  0.623181  0.745232  0.431427  0.290548  0.554307  0.505143  0.493067   \n",
       "8  0.445434  0.491908  0.344918  0.245381  0.409603  0.376298  0.373731   \n",
       "\n",
       "          7         8  \n",
       "0  0.623181  0.445434  \n",
       "1  0.745232  0.491908  \n",
       "2  0.431427  0.344918  \n",
       "3  0.290548  0.245381  \n",
       "4  0.554307  0.409603  \n",
       "5  0.505143  0.376298  \n",
       "6  0.493067  0.373731  \n",
       "7  1.000000  0.437853  \n",
       "8  0.437853  1.000000  "
      ]
     },
     "execution_count": 13,
     "metadata": {},
     "output_type": "execute_result"
    }
   ],
   "source": [
    "# Compute jaccard of some documents and store in dataframe\n",
    "n_docs = 9\n",
    "similarity_threshold = 0.5\n",
    "similarities = np.zeros((n_docs, n_docs))\n",
    "for i in range(n_docs): \n",
    "    for j in range(n_docs): \n",
    "        similarities[i, j] = documents[i].jaccardSimilarity(documents[j])\n",
    "        \n",
    "simDF = pd.DataFrame(similarities)\n",
    "simDF.head(n_docs)"
   ]
  },
  {
   "cell_type": "markdown",
   "metadata": {},
   "source": [
    "## Jaccard Similarity results \n",
    "### Find similar docs"
   ]
  },
  {
   "cell_type": "code",
   "execution_count": 14,
   "metadata": {},
   "outputs": [
    {
     "name": "stdout",
     "output_type": "stream",
     "text": [
      "Documents 0 and 1 are similar, similarity 0.7728\n",
      "Documents 0 and 4 are similar, similarity 0.5682\n",
      "Documents 0 and 5 are similar, similarity 0.5075\n",
      "Documents 0 and 7 are similar, similarity 0.6232\n",
      "Documents 1 and 2 are similar, similarity 0.5088\n",
      "Documents 1 and 4 are similar, similarity 0.666\n",
      "Documents 1 and 5 are similar, similarity 0.6024\n",
      "Documents 1 and 6 are similar, similarity 0.5617\n",
      "Documents 1 and 7 are similar, similarity 0.7452\n",
      "Documents 4 and 7 are similar, similarity 0.5543\n",
      "Documents 5 and 7 are similar, similarity 0.5051\n"
     ]
    }
   ],
   "source": [
    "similar = []\n",
    "for i in range(n_docs): \n",
    "    for j in range(n_docs): \n",
    "        if(similarities[i, j] > similarity_threshold):\n",
    "            if (i < j): ## This is in order to just include each pair once.. \n",
    "                print(\"Documents {} and {} are similar, similarity {}\".format(i, j, round(similarities[i, j], 4)))\n",
    "                similar.append((i, j))"
   ]
  },
  {
   "cell_type": "code",
   "execution_count": 15,
   "metadata": {},
   "outputs": [
    {
     "name": "stdout",
     "output_type": "stream",
     "text": [
      "Oct 30 2009 \tOK value though shabby; good position.\tI extended a one night stay to three. The staff were basically helpful when asked. My room was clean, comfortable, and daily serviced. I think the position is good for a budget hotel, near the Golden Gate theatre, right by Asian Arts Museum and Civic Centre. It's an old and architecturally atmospheric hotel.Negatives: it is very badly neglected. Things that might put you off are the need usually to ring the outside doorbell and wait to get some\n",
      "\n",
      "\n",
      "Oct 28 2009 \tGood value\tNice little hotel in a great location. Not 5* but then you're not paying 5* rates. Clean, friendly staff and an easy 5 minute walk to Union Square.\t\n",
      "Oct 25 2009 \tGood location but cramped and unclean\tWe stayed in the Adante for two nights when we arrived in SF and again for one night the following week before we left. The hotel is ideally situated only a short walk from Union Square and the front desk staff were helpful. We were allowed to check-in early and were even on \n"
     ]
    }
   ],
   "source": [
    "## Show first part of two similar'docs\n",
    "print(documents[similar[0][0]].text[0:500])\n",
    "print(\"\\n\")\n",
    "print(documents[similar[0][1]].text[0:500])"
   ]
  },
  {
   "cell_type": "markdown",
   "metadata": {},
   "source": [
    "# 2. Min-Hashing\n",
    "- Create a set of k random hash function\n",
    "- Get the signature of each document by: \n",
    "    - for each shingle e in doc\n",
    "        - save the index i of the hash function producing smallest h(e)\n",
    "        \n",
    "        \n",
    "## Hyperparameters\n",
    "\n",
    "#### n_buckets\n",
    "The number of hash buckets (or the number of different possible output values for the hash function). A high n_buckets will yield low similarity measures, because more possible hash values means fewer shingles will be hashed to the same buckets.\n",
    "\n",
    "#### n_hashes \n",
    "The number of hash functions used to create the min hashing signature. \n",
    "\n"
   ]
  },
  {
   "cell_type": "code",
   "execution_count": 16,
   "metadata": {
    "collapsed": true
   },
   "outputs": [],
   "source": [
    "n_hashes = 100\n",
    "n_buckets = 2 ** 11 # number of hash buckets. This strongly affects the measure of similarity\n"
   ]
  },
  {
   "cell_type": "code",
   "execution_count": 17,
   "metadata": {},
   "outputs": [
    {
     "name": "stderr",
     "output_type": "stream",
     "text": [
      "/Users/philipclaesson/anaconda3/lib/python3.6/site-packages/ipykernel_launcher.py:13: RuntimeWarning: overflow encountered in long_scalars\n",
      "  del sys.path[0]\n"
     ]
    },
    {
     "name": "stdout",
     "output_type": "stream",
     "text": [
      "Processed doc 0\n",
      "Processed doc 1\n",
      "Processed doc 2\n",
      "Processed doc 3\n",
      "Processed doc 4\n",
      "Processed doc 5\n",
      "Processed doc 6\n",
      "Processed doc 7\n",
      "Processed doc 8\n"
     ]
    }
   ],
   "source": [
    "## Create a set of k random hash functions (permutations). \n",
    "h = Hasher(n_hashes, n_buckets)\n",
    "h.generateRandomHashFunctions()\n",
    "\n",
    "## Create signatures for each set\n",
    "for count, d in enumerate(documents):\n",
    "    d.createSignature(h)\n",
    "    print(\"Processed doc {}\".format(count))\n"
   ]
  },
  {
   "cell_type": "code",
   "execution_count": 18,
   "metadata": {
    "scrolled": true
   },
   "outputs": [
    {
     "data": {
      "text/plain": [
       "array([   0.,    1.,    0.,    0.,    1.,    0.,    0.,    0.,    0.,\n",
       "          1.,   12.,    0.,    0.,    0.,    0.,    0.,    0.,    0.,\n",
       "         11.,    2.,    0.,   15.,    0.,    0.,    0.,    0.,    1.,\n",
       "          1.,    1.,    0.,    0.,    3.,    0.,    0.,    0.,    0.,\n",
       "          2.,    0.,    0.,    1.,    0.,    4.,    1.,    1.,    2.,\n",
       "          0.,    0.,    0.,    1.,    1.,  253.,    0.,    2.,    0.,\n",
       "          3.,    0.,    0.,    0.,    3.,    1.,    1.,    1.,    1.,\n",
       "          0.,    1.,    1.,    0.,    0.,    0.,    0.,    0.,    1.,\n",
       "          0.,    1.,    3.,    0.,    1.,    0.,   30.,    1.,    5.,\n",
       "          1.,    2.,    6.,    0.,    2.,    0.,    0.,    0.,    2.,\n",
       "          3.,    1.,    0.,    2.,    0.,    0.,    0.,    1.,    0.,    0.])"
      ]
     },
     "execution_count": 18,
     "metadata": {},
     "output_type": "execute_result"
    }
   ],
   "source": [
    "# Example of document signature\n",
    "documents[0].signature"
   ]
  },
  {
   "cell_type": "markdown",
   "metadata": {},
   "source": [
    "### Example: compute similarities for 10 documents."
   ]
  },
  {
   "cell_type": "code",
   "execution_count": 19,
   "metadata": {},
   "outputs": [
    {
     "data": {
      "text/html": [
       "<div>\n",
       "<style>\n",
       "    .dataframe thead tr:only-child th {\n",
       "        text-align: right;\n",
       "    }\n",
       "\n",
       "    .dataframe thead th {\n",
       "        text-align: left;\n",
       "    }\n",
       "\n",
       "    .dataframe tbody tr th {\n",
       "        vertical-align: top;\n",
       "    }\n",
       "</style>\n",
       "<table border=\"1\" class=\"dataframe\">\n",
       "  <thead>\n",
       "    <tr style=\"text-align: right;\">\n",
       "      <th></th>\n",
       "      <th>0</th>\n",
       "      <th>1</th>\n",
       "      <th>2</th>\n",
       "      <th>3</th>\n",
       "      <th>4</th>\n",
       "      <th>5</th>\n",
       "      <th>6</th>\n",
       "      <th>7</th>\n",
       "      <th>8</th>\n",
       "    </tr>\n",
       "  </thead>\n",
       "  <tbody>\n",
       "    <tr>\n",
       "      <th>0</th>\n",
       "      <td>1.00</td>\n",
       "      <td>0.89</td>\n",
       "      <td>0.68</td>\n",
       "      <td>0.52</td>\n",
       "      <td>0.70</td>\n",
       "      <td>0.69</td>\n",
       "      <td>0.74</td>\n",
       "      <td>0.83</td>\n",
       "      <td>0.67</td>\n",
       "    </tr>\n",
       "    <tr>\n",
       "      <th>1</th>\n",
       "      <td>0.89</td>\n",
       "      <td>1.00</td>\n",
       "      <td>0.70</td>\n",
       "      <td>0.57</td>\n",
       "      <td>0.77</td>\n",
       "      <td>0.77</td>\n",
       "      <td>0.76</td>\n",
       "      <td>0.86</td>\n",
       "      <td>0.65</td>\n",
       "    </tr>\n",
       "    <tr>\n",
       "      <th>2</th>\n",
       "      <td>0.68</td>\n",
       "      <td>0.70</td>\n",
       "      <td>1.00</td>\n",
       "      <td>0.49</td>\n",
       "      <td>0.62</td>\n",
       "      <td>0.62</td>\n",
       "      <td>0.62</td>\n",
       "      <td>0.67</td>\n",
       "      <td>0.54</td>\n",
       "    </tr>\n",
       "    <tr>\n",
       "      <th>3</th>\n",
       "      <td>0.52</td>\n",
       "      <td>0.57</td>\n",
       "      <td>0.49</td>\n",
       "      <td>1.00</td>\n",
       "      <td>0.50</td>\n",
       "      <td>0.54</td>\n",
       "      <td>0.52</td>\n",
       "      <td>0.54</td>\n",
       "      <td>0.43</td>\n",
       "    </tr>\n",
       "    <tr>\n",
       "      <th>4</th>\n",
       "      <td>0.70</td>\n",
       "      <td>0.77</td>\n",
       "      <td>0.62</td>\n",
       "      <td>0.50</td>\n",
       "      <td>1.00</td>\n",
       "      <td>0.66</td>\n",
       "      <td>0.67</td>\n",
       "      <td>0.70</td>\n",
       "      <td>0.54</td>\n",
       "    </tr>\n",
       "    <tr>\n",
       "      <th>5</th>\n",
       "      <td>0.69</td>\n",
       "      <td>0.77</td>\n",
       "      <td>0.62</td>\n",
       "      <td>0.54</td>\n",
       "      <td>0.66</td>\n",
       "      <td>1.00</td>\n",
       "      <td>0.65</td>\n",
       "      <td>0.70</td>\n",
       "      <td>0.59</td>\n",
       "    </tr>\n",
       "    <tr>\n",
       "      <th>6</th>\n",
       "      <td>0.74</td>\n",
       "      <td>0.76</td>\n",
       "      <td>0.62</td>\n",
       "      <td>0.52</td>\n",
       "      <td>0.67</td>\n",
       "      <td>0.65</td>\n",
       "      <td>1.00</td>\n",
       "      <td>0.74</td>\n",
       "      <td>0.53</td>\n",
       "    </tr>\n",
       "    <tr>\n",
       "      <th>7</th>\n",
       "      <td>0.83</td>\n",
       "      <td>0.86</td>\n",
       "      <td>0.67</td>\n",
       "      <td>0.54</td>\n",
       "      <td>0.70</td>\n",
       "      <td>0.70</td>\n",
       "      <td>0.74</td>\n",
       "      <td>1.00</td>\n",
       "      <td>0.63</td>\n",
       "    </tr>\n",
       "    <tr>\n",
       "      <th>8</th>\n",
       "      <td>0.67</td>\n",
       "      <td>0.65</td>\n",
       "      <td>0.54</td>\n",
       "      <td>0.43</td>\n",
       "      <td>0.54</td>\n",
       "      <td>0.59</td>\n",
       "      <td>0.53</td>\n",
       "      <td>0.63</td>\n",
       "      <td>1.00</td>\n",
       "    </tr>\n",
       "  </tbody>\n",
       "</table>\n",
       "</div>"
      ],
      "text/plain": [
       "      0     1     2     3     4     5     6     7     8\n",
       "0  1.00  0.89  0.68  0.52  0.70  0.69  0.74  0.83  0.67\n",
       "1  0.89  1.00  0.70  0.57  0.77  0.77  0.76  0.86  0.65\n",
       "2  0.68  0.70  1.00  0.49  0.62  0.62  0.62  0.67  0.54\n",
       "3  0.52  0.57  0.49  1.00  0.50  0.54  0.52  0.54  0.43\n",
       "4  0.70  0.77  0.62  0.50  1.00  0.66  0.67  0.70  0.54\n",
       "5  0.69  0.77  0.62  0.54  0.66  1.00  0.65  0.70  0.59\n",
       "6  0.74  0.76  0.62  0.52  0.67  0.65  1.00  0.74  0.53\n",
       "7  0.83  0.86  0.67  0.54  0.70  0.70  0.74  1.00  0.63\n",
       "8  0.67  0.65  0.54  0.43  0.54  0.59  0.53  0.63  1.00"
      ]
     },
     "execution_count": 19,
     "metadata": {},
     "output_type": "execute_result"
    }
   ],
   "source": [
    "# Compute minhash signature similarity of some documents and store in dataframe\n",
    "n_docs = 9\n",
    "similarity_threshold = 0.7\n",
    "similarities = np.zeros((n_docs, n_docs))\n",
    "for i in range(n_docs): \n",
    "    for j in range(n_docs): \n",
    "        similarities[i, j] = documents[i].signatureSimilarity(documents[j])\n",
    "        \n",
    "simDF = pd.DataFrame(similarities)\n",
    "simDF.head(n_docs)"
   ]
  },
  {
   "cell_type": "markdown",
   "metadata": {},
   "source": [
    "## Min-hashing results\n",
    "### Find similar docs"
   ]
  },
  {
   "cell_type": "code",
   "execution_count": 20,
   "metadata": {},
   "outputs": [
    {
     "name": "stdout",
     "output_type": "stream",
     "text": [
      "Documents 0 and 1 are similar, similarity 0.89\n",
      "Documents 0 and 6 are similar, similarity 0.74\n",
      "Documents 0 and 7 are similar, similarity 0.83\n",
      "Documents 1 and 4 are similar, similarity 0.77\n",
      "Documents 1 and 5 are similar, similarity 0.77\n",
      "Documents 1 and 6 are similar, similarity 0.76\n",
      "Documents 1 and 7 are similar, similarity 0.86\n",
      "Documents 6 and 7 are similar, similarity 0.74\n"
     ]
    }
   ],
   "source": [
    "similar = []\n",
    "for i in range(n_docs): \n",
    "    for j in range(n_docs): \n",
    "        if(similarities[i, j] > similarity_threshold):\n",
    "            if (i < j): ## This is in order to just include each pair once.. \n",
    "                print(\"Documents {} and {} are similar, similarity {}\".format(i, j, round(similarities[i, j], 4)))\n",
    "                similar.append((i, j))\n",
    "    \n",
    "    "
   ]
  },
  {
   "cell_type": "code",
   "execution_count": null,
   "metadata": {
    "collapsed": true
   },
   "outputs": [],
   "source": []
  },
  {
   "cell_type": "markdown",
   "metadata": {},
   "source": [
    "# 3. Locality Sensitive Hashing \n",
    "- Hash bands of signatures of each document into buckets \n",
    "- For each bucket, add all docs in the same bucket to a a set of Candidate Pairs\n",
    "- Filter out candidate pairs which are less similar than t (false positives) to get the Similar Pairs\n",
    "\n",
    "## Hyperparameters\n",
    "\n",
    "### n_bands and n_rows\n",
    "The number of bands, and number of rows in each band. b * r should be equal to the number of integers in the signature of a document, n. \n",
    "\n",
    "### t\n",
    "The threshold of similarity to filter out not false positives from candidate pairs. \n",
    "\n",
    "### n_lsh_buckets\n",
    "The number of buckets in the hash function which hashes the bands of the signatures. Should be as large as possible, but increases the runtime! "
   ]
  },
  {
   "cell_type": "markdown",
   "metadata": {},
   "source": []
  },
  {
   "cell_type": "code",
   "execution_count": 21,
   "metadata": {
    "collapsed": true
   },
   "outputs": [],
   "source": [
    "## Hyperparameters\n",
    "n_bands = 20\n",
    "n_rows = 5 # rows per band\n",
    "t = 0.55 # (1/n_bands) ** (1/n_rows) = 0.549\n",
    "n_lsh_buckets = 2 ** 20"
   ]
  },
  {
   "cell_type": "code",
   "execution_count": 22,
   "metadata": {
    "collapsed": true
   },
   "outputs": [],
   "source": [
    "lsh = LSH(n_bands = n_bands, n_rows = n_rows, t = t, n_buckets = n_lsh_buckets)\n",
    "\n",
    "candidate_pairs = lsh.getCandidatePairs(documents)\n",
    "\n",
    "similar_pairs = lsh.getSimilarPairs(documents) "
   ]
  },
  {
   "cell_type": "code",
   "execution_count": 23,
   "metadata": {},
   "outputs": [
    {
     "name": "stdout",
     "output_type": "stream",
     "text": [
      "Out of 9 documents, 33 candidate pairs were found. Out of these, 25 had a similarity of at least 0.55. \n"
     ]
    }
   ],
   "source": [
    "print(\"Out of {} documents, {} candidate pairs were found. Out of these, {} had a similarity of at least {}. \"\n",
    "      .format(len(documents), len(candidate_pairs), len(similar_pairs), t))\n",
    "\n"
   ]
  },
  {
   "cell_type": "markdown",
   "metadata": {},
   "source": [
    "## LSH Result\n",
    "### Find similar docs"
   ]
  },
  {
   "cell_type": "code",
   "execution_count": 24,
   "metadata": {},
   "outputs": [
    {
     "name": "stdout",
     "output_type": "stream",
     "text": [
      "Documents 6 and 7 are similar, similarity 0.74\n",
      "Documents 1 and 4 are similar, similarity 0.77\n",
      "Documents 1 and 7 are similar, similarity 0.86\n",
      "Documents 0 and 6 are similar, similarity 0.74\n",
      "Documents 1 and 6 are similar, similarity 0.76\n",
      "Documents 0 and 7 are similar, similarity 0.83\n",
      "Documents 1 and 5 are similar, similarity 0.77\n",
      "Documents 0 and 1 are similar, similarity 0.89\n"
     ]
    }
   ],
   "source": [
    "for d1, d2, sim in (similar_pairs): \n",
    "    if (sim > similarity_threshold):\n",
    "        print(\"Documents {} and {} are similar, similarity {}\".format(d1, d2, round(sim, 4)))\n",
    "\n",
    "    "
   ]
  },
  {
   "cell_type": "code",
   "execution_count": 25,
   "metadata": {},
   "outputs": [
    {
     "name": "stdout",
     "output_type": "stream",
     "text": [
      "Doc 0 and 1 are considered among the most equal, they correspond to the files 'usa_san francisco_abigail_hotel and 'usa_san francisco_adante_hotel' which can be found in \n"
     ]
    }
   ],
   "source": [
    "print(\"Doc 0 and 1 are considered among the most equal, they correspond to the files '{} and '{}' which can be found in \".format(documents[0].filename, documents[1].filename))"
   ]
  },
  {
   "cell_type": "code",
   "execution_count": null,
   "metadata": {
    "collapsed": true
   },
   "outputs": [],
   "source": []
  }
 ],
 "metadata": {
  "kernelspec": {
   "display_name": "Python 3",
   "language": "python",
   "name": "python3"
  },
  "language_info": {
   "codemirror_mode": {
    "name": "ipython",
    "version": 3
   },
   "file_extension": ".py",
   "mimetype": "text/x-python",
   "name": "python",
   "nbconvert_exporter": "python",
   "pygments_lexer": "ipython3",
   "version": "3.6.2"
  }
 },
 "nbformat": 4,
 "nbformat_minor": 2
}
