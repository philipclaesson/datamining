{
 "cells": [
  {
   "cell_type": "code",
   "execution_count": 2,
   "metadata": {
    "collapsed": true
   },
   "outputs": [],
   "source": [
    "import numpy as np\n",
    "import csv\n",
    "import random\n",
    "from itertools import combinations"
   ]
  },
  {
   "cell_type": "markdown",
   "metadata": {},
   "source": [
    "# Hyperparameter definition - Support threshold"
   ]
  },
  {
   "cell_type": "code",
   "execution_count": 3,
   "metadata": {
    "collapsed": true
   },
   "outputs": [],
   "source": [
    "min_support=500"
   ]
  },
  {
   "cell_type": "markdown",
   "metadata": {},
   "source": [
    "Singletons Calculation and Data reading"
   ]
  },
  {
   "cell_type": "code",
   "execution_count": 7,
   "metadata": {},
   "outputs": [
    {
     "name": "stdout",
     "output_type": "stream",
     "text": [
      "Reading file of length 100000\n",
      "Found 569 singletons\n"
     ]
    }
   ],
   "source": [
    "singletons = {}\n",
    "\n",
    "\n",
    "with open(\"../data/ItemBasketDataset/transactions.dat\", 'r') as f:\n",
    "        dataset = csv.reader(f)\n",
    "        file = [frozenset(row[0].split()) for row in dataset]\n",
    "\n",
    "# Read through each line and extract singletons\n",
    "for line in file:\n",
    "    for item in line:\n",
    "        if item in singletons:\n",
    "            singletons[item.strip()] += 1\n",
    "        else:\n",
    "            singletons[item.strip()] = 1\n",
    "\n",
    "            \n",
    "print(\"Reading file of length {}\".format(len(file)))\n",
    "\n",
    "      \n",
    "for i in singletons.copy():\n",
    "    if singletons[i] < min_support:\n",
    "        singletons.pop(i)\n",
    "\n",
    "print(\"Found {} singletons\".format(len(singletons)))\n",
    "\n",
    "singletons = set(singletons.keys())\n",
    "        "
   ]
  },
  {
   "cell_type": "code",
   "execution_count": 9,
   "metadata": {
    "collapsed": true
   },
   "outputs": [],
   "source": [
    "def all_subsets_frequent(c, L, k):\n",
    "    for subset in (combinations(c, k)):\n",
    "        if not set(subset) in L:\n",
    "            return False\n",
    "    return True"
   ]
  },
  {
   "cell_type": "code",
   "execution_count": 10,
   "metadata": {
    "collapsed": true
   },
   "outputs": [],
   "source": [
    "def generateyfilter_candidates(L,k):\n",
    "    item_set=set()\n",
    "    if k==2:\n",
    "        for item in L:\n",
    "            item_set.add(item)\n",
    "    else:\n",
    "        for freq_set in L:\n",
    "            for item in set(freq_set):\n",
    "                item_set.add(item)\n",
    "    \n",
    "    candidates={}\n",
    "    i=0\n",
    "    for basket in file:\n",
    "        i+=1\n",
    "        items_basket =item_set.intersection(basket)\n",
    "        for c in combinations(items_basket, k):\n",
    "            c = frozenset(c)\n",
    "            if c in candidates:\n",
    "                candidates[c] += 1\n",
    "            else:\n",
    "                candidates[c] = 1\n",
    "\n",
    "    for item in candidates.copy():\n",
    "        if candidates[item] < min_support:\n",
    "            candidates.pop(item, None)\n",
    "\n",
    "    if k==2:\n",
    "        return set(candidates)\n",
    "    candidates = set([candidate for candidate in set(candidates) if all_subsets_frequent(candidate,L,k-1)])\n",
    "\n",
    "    return candidates\n",
    "    \n",
    "\n",
    "\n",
    "    \n",
    "    "
   ]
  },
  {
   "cell_type": "code",
   "execution_count": 11,
   "metadata": {
    "collapsed": true
   },
   "outputs": [],
   "source": [
    "def main():\n",
    "    print(\"Support threshold: \", min_support)\n",
    "\n",
    "    frequent_sets=[singletons]\n",
    "    print(\"# of frequent sets of lenght \",1,\": \",len(singletons))\n",
    "\n",
    "    k = 2\n",
    "    while True:\n",
    "        if not frequent_sets[k-2]:\n",
    "            break\n",
    "        C = generateyfilter_candidates(frequent_sets[k-2], k)\n",
    "        print(\"# of frequent sets of lenght \",k,\": \",len(C))\n",
    "        frequent_sets.append(C)\n",
    "        k += 1"
   ]
  },
  {
   "cell_type": "code",
   "execution_count": 354,
   "metadata": {},
   "outputs": [
    {
     "name": "stdout",
     "output_type": "stream",
     "text": [
      "Minimum support:  300\n",
      "# of frequent sets of lenght  1 :  692\n",
      "# of frequent sets of lenght  2 :  1816\n",
      "# of frequent sets of lenght  3 :  1129\n",
      "# of frequent sets of lenght  4 :  608\n",
      "# of frequent sets of lenght  5 :  240\n",
      "# of frequent sets of lenght  6 :  61\n",
      "# of frequent sets of lenght  7 :  6\n",
      "# of frequent sets of lenght  8 :  0\n"
     ]
    }
   ],
   "source": [
    "main()"
   ]
  }
 ],
 "metadata": {
  "kernelspec": {
   "display_name": "Python 3",
   "language": "python",
   "name": "python3"
  },
  "language_info": {
   "codemirror_mode": {
    "name": "ipython",
    "version": 3
   },
   "file_extension": ".py",
   "mimetype": "text/x-python",
   "name": "python",
   "nbconvert_exporter": "python",
   "pygments_lexer": "ipython3",
   "version": "3.6.2"
  }
 },
 "nbformat": 4,
 "nbformat_minor": 2
}
