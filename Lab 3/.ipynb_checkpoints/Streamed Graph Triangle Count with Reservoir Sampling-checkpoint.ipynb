{
 "cells": [
  {
   "cell_type": "code",
   "execution_count": 41,
   "metadata": {
    "collapsed": true
   },
   "outputs": [],
   "source": [
    "import numpy as np\n",
    "import random\n",
    "from time import time, ctime"
   ]
  },
  {
   "cell_type": "markdown",
   "metadata": {},
   "source": [
    "## Datasets\n",
    "\n",
    "### Moreno Health (friendships) \n",
    "\n",
    "- Size\t2,539 vertices (students)\n",
    "- Volume\t12,969 edges (friendships)\n",
    "- Wedge count\t99,247\n",
    "- Triangle count\t4,694\n",
    "- Clustering coefficient\t14.2%\n",
    "\n",
    "### Actor collaborations \n",
    "\n",
    "- Size: 382,219 vertices (actors)\n",
    "- Volume: 33,115,812 edges (collaborations)\n",
    "- Unique volume: 30,076,166 edges (collaborations)\n",
    "- Average degree: 173.28 edges / vertex\n",
    "- Wedge count: 6,266,209,411 \n",
    "- Triangle count\t346,813,199 \n",
    "- Clustering Coefficient (transitivity): \t16.6% \n",
    "\n",
    "### Facebook relationships\n",
    "\n",
    "- Size\t2,888 vertices (users)\n",
    "- Volume\t2,981 edges (friendships)\n",
    "- Average degree\t2.0644 edges / vertex\n",
    "- Wedge count\t759,641\n",
    "- Triangle count\t91\n",
    "- Clustering coefficient\t0.0359% \n",
    "\n",
    "### Little rock lake \n",
    "- Volume\t2,494 edges (food sources)\n",
    "- Average degree (overall)\t27.257 edges / vertex\n",
    "- Wedge count\t101,959\n",
    "- Claw count\t1,985,127\n",
    "- Triangle count\t11,292\n",
    "- Clustering coefficient\t33.2% \n",
    "\n",
    "\n",
    "A common measure is the transitivity = 3T/W"
   ]
  },
  {
   "cell_type": "code",
   "execution_count": 265,
   "metadata": {
    "collapsed": true
   },
   "outputs": [],
   "source": [
    "# path = \"../data/moreno_health/out.moreno_health_health\"\n",
    "\n",
    "# path = \"../data/ego-facebook/out.ego-facebook\"\n",
    "\n",
    "path = \"../data/maayan-foodweb/out.maayan-foodweb\"\n",
    "\n",
    "# path = \"../data/actor-collaboration/out.actor-collaboration\""
   ]
  },
  {
   "cell_type": "markdown",
   "metadata": {},
   "source": [
    "### Core algorithm\n",
    "\n",
    "#### Wedge sampling to estimate the transitivity\n",
    "A wedge is closed if it participates in a triangle, otherwise it is open. Note that the transitivity (= 3T/W) is exactly the probability that a uniform random wedge is closed. This leads to a simple randomized algorithm for estimating transivity (and triangle count) by sampling a set of independent uniform random wedges and finding the fraction of closed wedges. \n",
    "\n",
    "#### But how to sample wedges from a stream of edges? \n",
    "Suppose we just sampled a uniform random set of edges. How large does this set need to be to get a wedge? The birthday paradox can be used to deduce that (as long as W ≥ m, which holds for a great majority, if not all, of real networks) O(sqrt(n)) edges suffice\n",
    "\n",
    "\n",
    "#### Reservoir sampling \n",
    "Reservoir sampling means sampling a stream sequentially, with probability 1/i to pick the i:th data point. "
   ]
  },
  {
   "cell_type": "markdown",
   "metadata": {},
   "source": []
  },
  {
   "cell_type": "markdown",
   "metadata": {},
   "source": [
    "#### Main data structures \n",
    "\n",
    "- Array edge res[1...se]: This is the array of reservoir edges and is the subsample of the stream maintained.\n",
    "- New wedges Nt: This is a list of all wedges involving et formed only by edges in edge res. This may often be empty, if et is not added to the edge res. We do not necessarily maintain this list explicitly, and we discuss implementation details later.\n",
    "- Variable tot wedges: This is the total number of wedges formed by edges in the current edge res.\n",
    "- Array wedge res[1...sw]: This is an array of reservoir wedges of size sw.\n",
    "- Array isClosed[1...sw]: This is a boolean array. We set isClosed[i] to be true if wedge wedge res[i] is detected as closed.\n",
    "\n",
    "#### Algorithm\n",
    "![update.png](./update.png)"
   ]
  },
  {
   "cell_type": "code",
   "execution_count": 266,
   "metadata": {
    "collapsed": true
   },
   "outputs": [],
   "source": [
    "class StreamingTriangles: \n",
    "    def __init__(this, path, se, sw, early_stop = np.inf): \n",
    "        ## Initialize edge_res of size se and wedge_res of size sw\n",
    "        this.se = se\n",
    "        this.sw = sw\n",
    "        \n",
    "        this.edge_res = [(0, 0)] * se\n",
    "        this.wedge_res = [((0,0), (0,0))] * sw # containing the sampled wedges, a tuple of two tuples \n",
    "\n",
    "        this.tot_wedges = 0 # the number of wedges formed by edges in the current edge res\n",
    "        \n",
    "        this.isClosed = np.zeros(sw, dtype = bool)\n",
    "        \n",
    "        this.K = [0]\n",
    "        this.T = [0]\n",
    "        \n",
    "        this.t = 1 # t denotes the timestep \n",
    "        \n",
    "        this.Tresults = []\n",
    "        \n",
    "        print(\"Starting at {}\".format(ctime(time())))\n",
    "        \n",
    "        \n",
    "        ## Simulate stream\n",
    "        with open(path, encoding='utf-8', errors='replace') as f:\n",
    "\n",
    "            f.readline() # skip first line \n",
    "            \n",
    "            while this.t < early_stop and this.t < 2494: \n",
    "                ## read data from line\n",
    "                line = f.readline()\n",
    "                \n",
    "                edge = (int(line.split(\" \")[0]), int(line.split(\" \")[1]))\n",
    "                \n",
    "                ## We want the edge nodes to be ordered\n",
    "                if (edge[0] > edge[1]):\n",
    "                    edge = (edge[1], edge[0])\n",
    "                                        \n",
    "                # call update \n",
    "                this.update(edge)\n",
    "\n",
    "                ## let p be the fraction of entries in isClosed set to true. \n",
    "                ## ??? This serves as an estimate of Triangles per Wedge (T/W) ???\n",
    "                p = this.isClosed.sum()/len(this.isClosed)\n",
    "\n",
    "                ## K, the transitivity is equal to 3T/W, hence obtained through 3 * p\n",
    "                Kt = 3 * p\n",
    "\n",
    "                ## In order to estimate T from K, we need to estimate the the total number of wedges W.\n",
    "                # This is done by reverse engineering the birthday paradox: \n",
    "                Tt = round((p * this.t**2 / (se * (se-1)) ) * this.tot_wedges)\n",
    "\n",
    "                if (this.t % 100 == 0): \n",
    "                    print(\"t: {}, K: {}, T: {} at {}\".format(this.t, Kt, Tt, ctime(time())))\n",
    "                    this.Tresults.append(Tt)\n",
    "\n",
    "                this.t += 1\n",
    "\n",
    "            this.K = Kt\n",
    "            this.T = Tt\n",
    "\n",
    "            print(\"Finished after {} steps, K = {}, T = {} at {}\".format(this.t, this.K, this.T, ctime(time())))\n",
    "\n",
    "    def update(this, et): \n",
    "        new_edges = 0\n",
    "        new_wedges = 0\n",
    "\n",
    "        \n",
    "        ## 1. Check if et creates any triangles\n",
    "        for i, wedge in enumerate(this.wedge_res): \n",
    "            if this.isTriangle(wedge, et): ## if wedge_res[i] closed by et:\n",
    "                # print(\"Triangles found!\")\n",
    "                this.isClosed[i] = True\n",
    "        \n",
    "        \n",
    "        \n",
    "        ## 2. Randomly update the sampled edges \n",
    "        ### (this happens very infrequently, approx: sum(se/t) = se * ln(stream_length))\n",
    "        for i in range(this.se):\n",
    "            \n",
    "            #pick a random number x in [0, 1]\n",
    "            x = np.random.rand()\n",
    "            \n",
    "            if (x <= 1/this.t):\n",
    "                this.edge_res[i] = et\n",
    "                new_edges += 1\n",
    "            \n",
    "            \n",
    "            \n",
    "        ## 3. If any new edges has been added\n",
    "        if new_edges:             \n",
    "            \n",
    "            # get all wedges formed by the edges in edge_res\n",
    "            all_wedges = this.getAllWedges()\n",
    "            \n",
    "            # update tot_wedges: the number of wedges in this.edge_res\n",
    "            this.tot_wedges = len(all_wedges)\n",
    "            \n",
    "            # determine Nt (wedges involving et) and let new_wedges = |Nt|\n",
    "            Nt = this.getWedgesWithEdge(all_wedges, et)\n",
    "            new_wedges = len(Nt)\n",
    "                        \n",
    "            ## Randomly update the sampled wedges\n",
    "            for i in range(this.sw): \n",
    "                #pick a random number x in [0, 1]\n",
    "                x = np.random.rand()   \n",
    "                \n",
    "                if (this.tot_wedges): \n",
    "                    if (x <= new_wedges/this.tot_wedges): # this produces div by 0 error if no wedges are found\n",
    "                        # pick uniform random w in Nt                    \n",
    "                        this.wedge_res[i] = random.sample(Nt, 1)[0]\n",
    "                        #print(\"replacing wedge_res\")\n",
    "                        #print(Nt)\n",
    "                        #print(this.wedge_res[i])\n",
    "                        this.isClosed[i] = False\n",
    "\n",
    "                    \n",
    "                    \n",
    "    ## Support Methods ## \n",
    "        \n",
    "    def isTriangle(this, wedge, edge): \n",
    "        ## determines if a wedge and an edge forms a triange   \n",
    "        if (edge[0] == edge[1]): \n",
    "            # print(\"Found stupid edge {}\".format(edge))\n",
    "            return False\n",
    "        \n",
    "        e1 = set(wedge[0])\n",
    "        e2 = set(wedge[1])\n",
    "        leaves = e1 ^ e2\n",
    "        \n",
    "        if ((edge[0] in leaves) and (edge[1] in leaves)):\n",
    "            return True \n",
    "        else: \n",
    "            return False\n",
    "        \n",
    "    def getWedgesWithEdge(this, wedges, edge):\n",
    "        wedges_with_edge = set()\n",
    "        for wedge in wedges: \n",
    "            if (edge in wedge): \n",
    "                wedges_with_edge.add(wedge)\n",
    "                \n",
    "        return wedges_with_edge\n",
    "\n",
    "    \n",
    "    def getAllWedges(this): \n",
    "        ## returns all wedges formed by the edges in edge_res\n",
    "        wedges = set()\n",
    "        edges = list(this.edge_res)\n",
    "        for i, e1 in enumerate(edges):\n",
    "            for e2 in edges[i+1:]:\n",
    "                if len(set(e1) & set(e2)) == 1:\n",
    "                    if ((e1, e2) not in wedges):\n",
    "                        wedges.add((e1, e2))\n",
    "\n",
    "        return wedges \n",
    "\n",
    "\n",
    "    def sortEdges(this, e1, e2): \n",
    "        # sort by sum primarily, first edge secondarily\n",
    "        if (sum(e1) < sum(e2)):\n",
    "            return (e1, e2)\n",
    "        elif (sum(e1) > sum(e2)): \n",
    "            return (e2, e1)\n",
    "        else: # (if sum(e1) == sum(e2))\n",
    "            if (e1[0] < e2[0]): \n",
    "                return (e1, e2)\n",
    "            else:\n",
    "                return (e2, e1)\n"
   ]
  },
  {
   "cell_type": "code",
   "execution_count": 274,
   "metadata": {
    "collapsed": true
   },
   "outputs": [],
   "source": [
    "## Hyperparams \n",
    "se = 1500\n",
    "sw = 1500\n",
    "early_stop = 100000"
   ]
  },
  {
   "cell_type": "code",
   "execution_count": 275,
   "metadata": {
    "scrolled": false
   },
   "outputs": [
    {
     "name": "stdout",
     "output_type": "stream",
     "text": [
      "Starting at Sun Nov 25 19:21:24 2018\n",
      "t: 100, K: 0.026, T: 0.0 at Sun Nov 25 19:22:35 2018\n",
      "t: 200, K: 0.262, T: 11.0 at Sun Nov 25 19:23:46 2018\n",
      "t: 300, K: 0.39199999999999996, T: 55.0 at Sun Nov 25 19:24:56 2018\n",
      "t: 400, K: 0.39, T: 136.0 at Sun Nov 25 19:26:02 2018\n",
      "t: 500, K: 0.43199999999999994, T: 303.0 at Sun Nov 25 19:27:09 2018\n",
      "t: 600, K: 0.378, T: 430.0 at Sun Nov 25 19:28:12 2018\n",
      "t: 700, K: 0.334, T: 556.0 at Sun Nov 25 19:29:14 2018\n",
      "t: 800, K: 0.292, T: 684.0 at Sun Nov 25 19:30:14 2018\n",
      "t: 900, K: 0.29400000000000004, T: 912.0 at Sun Nov 25 19:31:10 2018\n",
      "t: 1000, K: 0.29, T: 1158.0 at Sun Nov 25 19:32:07 2018\n",
      "t: 1100, K: 0.302, T: 1547.0 at Sun Nov 25 19:33:04 2018\n",
      "t: 1200, K: 0.308, T: 1920.0 at Sun Nov 25 19:33:51 2018\n",
      "t: 1300, K: 0.33199999999999996, T: 2503.0 at Sun Nov 25 19:34:38 2018\n",
      "t: 1400, K: 0.352, T: 3130.0 at Sun Nov 25 19:35:25 2018\n",
      "t: 1500, K: 0.382, T: 3913.0 at Sun Nov 25 19:36:12 2018\n",
      "t: 1600, K: 0.376, T: 4410.0 at Sun Nov 25 19:36:46 2018\n",
      "t: 1700, K: 0.382, T: 5198.0 at Sun Nov 25 19:37:32 2018\n",
      "t: 1800, K: 0.368, T: 5682.0 at Sun Nov 25 19:38:18 2018\n",
      "t: 1900, K: 0.37, T: 6194.0 at Sun Nov 25 19:38:58 2018\n",
      "t: 2000, K: 0.366, T: 6442.0 at Sun Nov 25 19:39:46 2018\n",
      "t: 2100, K: 0.34800000000000003, T: 6415.0 at Sun Nov 25 19:40:26 2018\n",
      "t: 2200, K: 0.342, T: 6701.0 at Sun Nov 25 19:41:13 2018\n",
      "t: 2300, K: 0.33199999999999996, T: 7021.0 at Sun Nov 25 19:41:54 2018\n",
      "t: 2400, K: 0.322, T: 7239.0 at Sun Nov 25 19:42:30 2018\n",
      "Finished after 2494 steps, K = 0.31, T = 7384.0 at Sun Nov 25 19:42:56 2018\n"
     ]
    }
   ],
   "source": [
    "\n",
    "\n",
    "ST = StreamingTriangles(path, se, sw)\n",
    "\n"
   ]
  },
  {
   "cell_type": "code",
   "execution_count": 276,
   "metadata": {},
   "outputs": [
    {
     "name": "stdout",
     "output_type": "stream",
     "text": [
      "se: 1500, sw: 1500\n",
      "Estimated K to 0.31, in fact 0.332 \n",
      "Estimated T to 7384.0, in fact 11292\n"
     ]
    }
   ],
   "source": [
    "### Results\n",
    "\n",
    "print(\"se: {}, sw: {}\".format(se, sw))\n",
    "print(\"Estimated K to {}, in fact 0.332 \\nEstimated T to {}, in fact 11292\".format(ST.K, ST.T))"
   ]
  },
  {
   "cell_type": "code",
   "execution_count": null,
   "metadata": {
    "collapsed": true
   },
   "outputs": [],
   "source": []
  },
  {
   "cell_type": "code",
   "execution_count": null,
   "metadata": {
    "collapsed": true
   },
   "outputs": [],
   "source": []
  },
  {
   "cell_type": "code",
   "execution_count": null,
   "metadata": {
    "collapsed": true
   },
   "outputs": [],
   "source": [
    "## Tests\n",
    "\n",
    "\n",
    "ST = StreamingTriangles(path, se, sw, 0)\n",
    "\n",
    "wedge = ((0, 1), (1, 2))\n",
    "trueEdge = (2, 0)\n",
    "falseEdge = (2, 1)\n",
    "stupidEdge = (1, 1)\n",
    "\n",
    "print(\"{}: expected: True\".format(ST.isTriangle(wedge, trueEdge)))\n",
    "\n",
    "print(\"{}: expected: False\".format(ST.isTriangle(wedge, falseEdge)))\n",
    "\n",
    "print(\"{}: expected: False\".format(ST.isTriangle(wedge, stupidEdge)))\n",
    "\n",
    "\n",
    "wedges = set([((0, 1), (1, 2)), ((1, 2), (2, 3)), ((1, 3), (2, 3))])\n",
    "falseEdge = (0, 2)\n",
    "trueEdge = (1, 2)\n",
    "\n",
    "print(\"{}: expected: [(](0, 1), (1, 2)), ((1, 2), (2, 3))]\".format(ST.getWedgesWithEdge(wedges, trueEdge)))\n",
    "\n",
    "print(\"{}: expected: empty set\".format(ST.getWedgesWithEdge(wedges, falseEdge)))\n",
    "\n"
   ]
  },
  {
   "cell_type": "code",
   "execution_count": 242,
   "metadata": {
    "collapsed": true,
    "scrolled": false
   },
   "outputs": [],
   "source": [
    "def getAllWedges(edges): \n",
    "    ## returns all wedges formed by the edges in edge_res\n",
    "    wedges = set()\n",
    "    edges = list(edges)\n",
    "    for i, e1 in enumerate(edges):\n",
    "        for e2 in edges[i+1:]:\n",
    "            if len(set(e1) & set(e2)) == 1:\n",
    "                if ((e1, e2) not in wedges):\n",
    "                    wedges.add((e1, e2))\n",
    "                    \n",
    "    return wedges \n",
    "\n",
    "def sortEdges(e1, e2): \n",
    "    # sort by sum primarily, first edge secondarily\n",
    "    if (sum(e1) < sum(e2)):\n",
    "        return (e1, e2)\n",
    "    elif (sum(e1) > sum(e2)): \n",
    "        return (e2, e1)\n",
    "    else: # (if sum(e1) == sum(e2))\n",
    "        if (e1[0] < e2[0]): \n",
    "            return (e1, e2)\n",
    "        else:\n",
    "            return (e2, e1)\n"
   ]
  },
  {
   "cell_type": "code",
   "execution_count": 243,
   "metadata": {},
   "outputs": [
    {
     "name": "stdout",
     "output_type": "stream",
     "text": [
      "{((0, 1), (1, 2)), ((0, 1), (0, 2)), ((0, 2), (1, 2))}\n",
      "set(): expected: empty set\n"
     ]
    }
   ],
   "source": [
    "edges = set([(0,1), (0,2), (1,2)])\n",
    "emptyEdges = set([(0,1), (2,3), (4,5)])\n",
    "\n",
    "\n",
    "print(\"{}\".format(getAllWedges(edges)))\n",
    "\n",
    "print(\"{}: expected: empty set\".format(getAllWedges(emptyEdges)))\n",
    "\n"
   ]
  },
  {
   "cell_type": "code",
   "execution_count": 61,
   "metadata": {},
   "outputs": [
    {
     "data": {
      "text/plain": [
       "3"
      ]
     },
     "execution_count": 61,
     "metadata": {},
     "output_type": "execute_result"
    }
   ],
   "source": [
    "sum((2,1))"
   ]
  },
  {
   "cell_type": "code",
   "execution_count": 131,
   "metadata": {},
   "outputs": [
    {
     "data": {
      "text/plain": [
       "False"
      ]
     },
     "execution_count": 131,
     "metadata": {},
     "output_type": "execute_result"
    }
   ],
   "source": []
  },
  {
   "cell_type": "code",
   "execution_count": 49,
   "metadata": {
    "collapsed": true
   },
   "outputs": [],
   "source": []
  },
  {
   "cell_type": "code",
   "execution_count": null,
   "metadata": {
    "collapsed": true
   },
   "outputs": [],
   "source": []
  }
 ],
 "metadata": {
  "kernelspec": {
   "display_name": "Python 3",
   "language": "python",
   "name": "python3"
  },
  "language_info": {
   "codemirror_mode": {
    "name": "ipython",
    "version": 3
   },
   "file_extension": ".py",
   "mimetype": "text/x-python",
   "name": "python",
   "nbconvert_exporter": "python",
   "pygments_lexer": "ipython3",
   "version": "3.6.2"
  }
 },
 "nbformat": 4,
 "nbformat_minor": 2
}
